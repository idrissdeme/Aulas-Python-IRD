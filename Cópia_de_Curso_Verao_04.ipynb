{
  "nbformat": 4,
  "nbformat_minor": 0,
  "metadata": {
    "colab": {
      "provenance": [],
      "include_colab_link": true
    },
    "kernelspec": {
      "name": "python3",
      "display_name": "Python 3"
    },
    "language_info": {
      "name": "python"
    }
  },
  "cells": [
    {
      "cell_type": "markdown",
      "metadata": {
        "id": "view-in-github",
        "colab_type": "text"
      },
      "source": [
        "<a href=\"https://colab.research.google.com/github/idrissdeme/Aulas-Python-IRD/blob/main/C%C3%B3pia_de_Curso_Verao_04.ipynb\" target=\"_parent\"><img src=\"https://colab.research.google.com/assets/colab-badge.svg\" alt=\"Open In Colab\"/></a>"
      ]
    },
    {
      "cell_type": "markdown",
      "source": [
        "Link para a apresentação: [shorturl.at/mnRV1](http://shorturl.at/mnRV1)"
      ],
      "metadata": {
        "id": "CZx0QRM0wFgE"
      }
    },
    {
      "cell_type": "markdown",
      "source": [
        "Link para a [competição](https://docs.google.com/spreadsheets/d/15EyAeCgNEo0tQ4YkFMMoJvf4TK6u5fP7a6LvjNkZ-ro/edit?usp=sharing)\n",
        "\n",
        "Quem conseguirá a melhor acurácia no problema de classificação de dígitos?"
      ],
      "metadata": {
        "id": "9ZUk5qEAVH7W"
      }
    },
    {
      "cell_type": "markdown",
      "source": [
        "# Aula nova, rede nova!\n",
        "\n",
        "### Vamos criar nossa primeira rede para reconhecer dígitos\n",
        "\n",
        "\n",
        "---\n",
        "\n",
        "\n",
        "Para isso vamos usar:\n",
        "\n",
        "\n",
        "*   Dados: MNIST \n",
        " * Conjunto de imagens com dígitos escritos à mão ([MNIST Wikipedia](https://en.wikipedia.org/wiki/MNIST_database))\n",
        " * Recorde: 99.91 % de acurácia ([recordes](https://paperswithcode.com/sota/image-classification-on-mnist))\n",
        "\n",
        "\n",
        "\n",
        "*   Keras\n",
        " * Já tem o MNIST ⛳\n",
        " * Já sabemos um pouco de Keras da aula passada 🛫\n",
        " * É intuitivo 🥇\n",
        "\n",
        "\n",
        "\n",
        "---\n",
        "\n",
        "\n",
        "\n"
      ],
      "metadata": {
        "id": "EJ7wBnpzwK_i"
      }
    },
    {
      "cell_type": "markdown",
      "source": [
        "Carregando os dados..."
      ],
      "metadata": {
        "id": "Bhpf0Cj92JvT"
      }
    },
    {
      "cell_type": "code",
      "execution_count": null,
      "metadata": {
        "id": "SoJ6Z8F0vyV2"
      },
      "outputs": [],
      "source": [
        "import tensorflow as tf\n",
        "import numpy as np"
      ]
    },
    {
      "cell_type": "code",
      "source": [
        "(x_train, y_train), (x_test, y_test) = tf.keras.datasets.mnist.load_data(path='mnist.npz')"
      ],
      "metadata": {
        "id": "WAtVRSfQ3DFz",
        "colab": {
          "base_uri": "https://localhost:8080/"
        },
        "outputId": "0001d825-ca51-4b5e-f793-558fcfd597da"
      },
      "execution_count": null,
      "outputs": [
        {
          "output_type": "stream",
          "name": "stdout",
          "text": [
            "Downloading data from https://storage.googleapis.com/tensorflow/tf-keras-datasets/mnist.npz\n",
            "11490434/11490434 [==============================] - 0s 0us/step\n"
          ]
        }
      ]
    },
    {
      "cell_type": "markdown",
      "source": [
        "##*Sempre* examine os dados antes de usá-los"
      ],
      "metadata": {
        "id": "P6dwfwV92O0M"
      }
    },
    {
      "cell_type": "code",
      "source": [
        "print('Treino:')\n",
        "print(x_train.shape, x_train.dtype)\n",
        "print(y_train.shape, y_train.dtype)\n",
        "print(y_train)\n",
        "\n",
        "print('\\nTeste:')\n",
        "print(x_test.shape, x_test.dtype)\n",
        "print(y_test.shape, y_test.dtype)\n",
        "print(y_test)\n",
        "\n",
        "img_shape = x_train[0].shape\n",
        "img_size = np.prod(img_shape)\n",
        "\n",
        "print('Dimensões da imagem:', img_shape)\n",
        "print('Tamanho da imagem:', img_size)"
      ],
      "metadata": {
        "id": "ffxnJbTz1He-",
        "colab": {
          "base_uri": "https://localhost:8080/"
        },
        "outputId": "c5b04eba-0739-4a38-f3ab-8d3bf3b33284"
      },
      "execution_count": null,
      "outputs": [
        {
          "output_type": "stream",
          "name": "stdout",
          "text": [
            "Treino:\n",
            "(60000, 28, 28) uint8\n",
            "(60000,) uint8\n",
            "[5 0 4 ... 5 6 8]\n",
            "\n",
            "Teste:\n",
            "(10000, 28, 28) uint8\n",
            "(10000,) uint8\n",
            "[7 2 1 ... 4 5 6]\n",
            "Dimensões da imagem: (28, 28)\n",
            "Tamanho da imagem: 784\n"
          ]
        }
      ]
    },
    {
      "cell_type": "code",
      "source": [
        "%matplotlib inline\n",
        "import matplotlib.pyplot as plt"
      ],
      "metadata": {
        "id": "Ni3kmGMH1O0a"
      },
      "execution_count": null,
      "outputs": []
    },
    {
      "cell_type": "code",
      "source": [
        "nx, ny = 5, 5\n",
        "\n",
        "for i in range(nx*ny):\n",
        "  plt.subplot(nx, ny, i+1)\n",
        "  plt.imshow(x_train[i], cmap='gray_r', interpolation='none')\n",
        "  plt.xticks([])\n",
        "  plt.yticks([])\n",
        "  #plt.xlabel('label: %d' % y_train[i])\n",
        "\n",
        "plt.tight_layout()"
      ],
      "metadata": {
        "id": "XP8HaJbf3F11",
        "colab": {
          "base_uri": "https://localhost:8080/",
          "height": 297
        },
        "outputId": "9018563a-b288-48f6-a64b-02a92894471b"
      },
      "execution_count": null,
      "outputs": [
        {
          "output_type": "display_data",
          "data": {
            "text/plain": [
              "<Figure size 432x288 with 25 Axes>"
            ],
            "image/png": "[encoded data removed]"
          },
          "metadata": {}
        }
      ]
    },
    {
      "cell_type": "markdown",
      "source": [
        "Como é a distribuição dos dados?"
      ],
      "metadata": {
        "id": "-pzER6JbSrDE"
      }
    },
    {
      "cell_type": "code",
      "source": [
        "train_labels_count = np.unique(y_train, return_counts=True)\n",
        "test_labels_count = np.unique(y_test, return_counts=True)\n",
        "\n",
        "labels = np.unique(np.concatenate((train_labels_count[0], test_labels_count[0])))\n",
        "n_labels = len(labels)\n",
        "\n",
        "train_labels_dist = train_labels_count[1] / len(y_train)\n",
        "test_labels_dist = test_labels_count[1] / len(y_test)\n",
        "\n",
        "ideal_dist = 1 / n_labels\n",
        "\n",
        "print('Distribuição dos diferentes labels/classes/categorias/dígitos:\\n')\n",
        "print('treino:')\n",
        "print(train_labels_count)\n",
        "print(train_labels_dist)\n",
        "print('\\nteste:')\n",
        "print(test_labels_count)\n",
        "print(test_labels_dist)\n",
        "print('\\nideal: %g (%g %%)' % (ideal_dist, 100*ideal_dist))\n",
        "\n",
        "print('\\nHistograma:')\n",
        "plt.subplot(2, 1, 1)\n",
        "plt.bar(*train_labels_count, label='train')\n",
        "plt.legend()\n",
        "plt.tight_layout()\n",
        "\n",
        "plt.subplot(2, 1, 2)\n",
        "plt.bar(*test_labels_count, label='test')\n",
        "plt.legend()\n",
        "plt.tight_layout()"
      ],
      "metadata": {
        "id": "jAAxP_JbR995",
        "colab": {
          "base_uri": "https://localhost:8080/",
          "height": 540
        },
        "outputId": "f43643b3-b859-4955-bd43-9552ffce6eeb"
      },
      "execution_count": null,
      "outputs": [
        {
          "output_type": "stream",
          "name": "stdout",
          "text": [
            "Distribuição dos diferentes labels/classes/categorias/dígitos:\n",
            "\n",
            "treino:\n",
            "(array([0, 1, 2, 3, 4, 5, 6, 7, 8, 9], dtype=uint8), array([5923, 6742, 5958, 6131, 5842, 5421, 5918, 6265, 5851, 5949]))\n",
            "[0.09871667 0.11236667 0.0993     0.10218333 0.09736667 0.09035\n",
            " 0.09863333 0.10441667 0.09751667 0.09915   ]\n",
            "\n",
            "teste:\n",
            "(array([0, 1, 2, 3, 4, 5, 6, 7, 8, 9], dtype=uint8), array([ 980, 1135, 1032, 1010,  982,  892,  958, 1028,  974, 1009]))\n",
            "[0.098  0.1135 0.1032 0.101  0.0982 0.0892 0.0958 0.1028 0.0974 0.1009]\n",
            "\n",
            "ideal: 0.1 (10 %)\n",
            "\n",
            "Histograma:\n"
          ]
        },
        {
          "output_type": "display_data",
          "data": {
            "text/plain": [
              "<Figure size 432x288 with 2 Axes>"
            ],
            "image/png": "[encoded data removed]"
          },
          "metadata": {
            "needs_background": "light"
          }
        }
      ]
    },
    {
      "cell_type": "code",
      "source": [
        "plt.bar(labels, 100*(1 - train_labels_dist / test_labels_dist))\n",
        "plt.ylabel('% representation diff in train/test')\n",
        "plt.xlabel('label')\n",
        "plt.xticks(labels)"
      ],
      "metadata": {
        "id": "mSU6cLTIXYgU",
        "colab": {
          "base_uri": "https://localhost:8080/",
          "height": 471
        },
        "outputId": "965973cb-6046-4787-9124-be0c1f5b251a"
      },
      "execution_count": null,
      "outputs": [
        {
          "output_type": "execute_result",
          "data": {
            "text/plain": [
              "([<matplotlib.axis.XTick at 0x7f73bec2c190>,\n",
              "  <matplotlib.axis.XTick at 0x7f73bec2c9d0>,\n",
              "  <matplotlib.axis.XTick at 0x7f73bec22880>,\n",
              "  <matplotlib.axis.XTick at 0x7f73bebeea60>,\n",
              "  <matplotlib.axis.XTick at 0x7f73bebeef70>,\n",
              "  <matplotlib.axis.XTick at 0x7f73bebfa4c0>,\n",
              "  <matplotlib.axis.XTick at 0x7f73bebd3940>,\n",
              "  <matplotlib.axis.XTick at 0x7f73bebfa9d0>,\n",
              "  <matplotlib.axis.XTick at 0x7f73bebfaee0>,\n",
              "  <matplotlib.axis.XTick at 0x7f73bebff430>],\n",
              " <a list of 10 Text major ticklabel objects>)"
            ]
          },
          "metadata": {},
          "execution_count": 7
        },
        {
          "output_type": "display_data",
          "data": {
            "text/plain": [
              "<Figure size 432x288 with 1 Axes>"
            ],
            "image/png": "[encoded data removed]"
          },
          "metadata": {
            "needs_background": "light"
          }
        }
      ]
    },
    {
      "cell_type": "markdown",
      "source": [
        "Os dados estão igualmente representados nos conjuntos de treino e teste?\n",
        "\n",
        "Que outras análises você faria?"
      ],
      "metadata": {
        "id": "a255YpB1Zu4S"
      }
    },
    {
      "cell_type": "markdown",
      "source": [
        "\n",
        "\n",
        "---\n",
        "\n",
        "\n",
        "## Vamos transformar os labels ou categorias para um formato codificado \"tipo binário\"\n",
        "O one hot encoding, isso facilita (para o computador) a representação das categorias em problemas de classificação:\n",
        "\n",
        "0 ⟶ 0001\n",
        "\n",
        "1 ⟶ 0010\n",
        "\n",
        "2 ⟶ 0100\n",
        "\n",
        "... e assim vai\n",
        "\n",
        "https://en.wikipedia.org/wiki/One-hot"
      ],
      "metadata": {
        "id": "pD-awi5TslOo"
      }
    },
    {
      "cell_type": "code",
      "source": [
        "# transforma para a codificação one-hot\n",
        "Y_train = tf.keras.utils.to_categorical(y_train, n_labels)\n",
        "Y_test = tf.keras.utils.to_categorical(y_test, n_labels)\n",
        "\n",
        "print('Treino:')\n",
        "print(Y_train)\n",
        "\n",
        "print('Teste:')\n",
        "print(Y_test)"
      ],
      "metadata": {
        "id": "oqc2jKyKskI6",
        "colab": {
          "base_uri": "https://localhost:8080/"
        },
        "outputId": "80cd04a9-012a-4d0b-941e-b40d5cae7026"
      },
      "execution_count": null,
      "outputs": [
        {
          "output_type": "stream",
          "name": "stdout",
          "text": [
            "Treino:\n",
            "[[0. 0. 0. ... 0. 0. 0.]\n",
            " [1. 0. 0. ... 0. 0. 0.]\n",
            " [0. 0. 0. ... 0. 0. 0.]\n",
            " ...\n",
            " [0. 0. 0. ... 0. 0. 0.]\n",
            " [0. 0. 0. ... 0. 0. 0.]\n",
            " [0. 0. 0. ... 0. 1. 0.]]\n",
            "Teste:\n",
            "[[0. 0. 0. ... 1. 0. 0.]\n",
            " [0. 0. 1. ... 0. 0. 0.]\n",
            " [0. 1. 0. ... 0. 0. 0.]\n",
            " ...\n",
            " [0. 0. 0. ... 0. 0. 0.]\n",
            " [0. 0. 0. ... 0. 0. 0.]\n",
            " [0. 0. 0. ... 0. 0. 0.]]\n"
          ]
        }
      ]
    },
    {
      "cell_type": "markdown",
      "source": [
        "\n",
        "\n",
        "---\n",
        "\n",
        "\n",
        "##Agora, vamos treinar uma rede pra reconhecer números manuscritos!"
      ],
      "metadata": {
        "id": "TX54ZbyuRKIJ"
      }
    },
    {
      "cell_type": "code",
      "source": [
        "# meu primeiro modelo keras <3\n",
        "\n",
        "# quantas camadas?\n",
        "# quantos neurônios em cada camada?\n",
        "# qual função de ativação?\n",
        "\n",
        "model = tf.keras.Sequential([\n",
        "  tf.keras.layers.Flatten(input_shape=img_shape),  # colocando a matriz da imagem em forma de vetor\n",
        "  tf.keras.layers.Rescaling(scale=1./255),         # normalizando de [0, 255] para [0.0, 1.0] (você incluiria aqui na rede ou faria antes, como preprocessamento?)\n",
        "  # complete com camadas da sua preferência\n",
        "  # tipos de camada (sugiro que fique com \"Dense\" por enquanto): \n",
        "  #   - https://www.tensorflow.org/api_docs/python/tf/keras/layers\n",
        "  # funções de ativação: \n",
        "  #   - https://www.tensorflow.org/api_docs/python/tf/keras/activations \n",
        "  #   - https://www.tensorflow.org/api_docs/python/tf/nn \n",
        "  #   - https://www.tensorflow.org/api_docs/python/tf/math\n",
        "  # se quiser entrar na toca do coelho:\n",
        "  #   - https://www.tensorflow.org/api_docs/python/tf/keras/initializers\n",
        "  #   - https://www.tensorflow.org/api_docs/python/tf/keras/regularizers\n",
        "  #       + https://en.wikipedia.org/wiki/Regularization_(mathematics)\n",
        "  #       + https://ml-cheatsheet.readthedocs.io/en/latest/regularization.html (teste dropout ;D)\n",
        "  # ...\n",
        "  # ...\n",
        "  tf.keras.layers.Dense(80, activation=tf.nn.leaky_relu),\n",
        "  tf.keras.layers.Dense(40, activation=tf.nn.leaky_relu),\n",
        "  # ...\n",
        "  # ...\n",
        "  # na última camada precisamos de um nº de neurônios = nº de labels/categorias/classes (10 no nosso caso):\n",
        "  # pode trocar a ativação se quiser\n",
        "  tf.keras.layers.Dense(n_labels, activation='linear'),\n",
        "  # vamos conerter a saída numa distribuição de probabilidades: (https://developers.google.com/machine-learning/crash-course/multi-class-neural-networks/softmax)\n",
        "  tf.keras.layers.Softmax()\n",
        "])\n",
        "\n",
        "print(model.summary())\n",
        "\n",
        "for layer in model.layers:\n",
        "  print(layer.get_config())"
      ],
      "metadata": {
        "id": "nt6W9lDPRJch",
        "colab": {
          "base_uri": "https://localhost:8080/"
        },
        "outputId": "9f1522a9-fc23-49f7-826f-1146cd7a5564"
      },
      "execution_count": null,
      "outputs": [
        {
          "output_type": "stream",
          "name": "stdout",
          "text": [
            "Model: \"sequential_6\"\n",
            "_________________________________________________________________\n",
            " Layer (type)                Output Shape              Param #   \n",
            "=================================================================\n",
            " flatten_6 (Flatten)         (None, 784)               0         \n",
            "                                                                 \n",
            " rescaling_6 (Rescaling)     (None, 784)               0         \n",
            "                                                                 \n",
            " dense_15 (Dense)            (None, 80)                62800     \n",
            "                                                                 \n",
            " dense_16 (Dense)            (None, 40)                3240      \n",
            "                                                                 \n",
            " dense_17 (Dense)            (None, 10)                410       \n",
            "                                                                 \n",
            " softmax_6 (Softmax)         (None, 10)                0         \n",
            "                                                                 \n",
            "=================================================================\n",
            "Total params: 66,450\n",
            "Trainable params: 66,450\n",
            "Non-trainable params: 0\n",
            "_________________________________________________________________\n",
            "None\n",
            "{'name': 'flatten_6', 'trainable': True, 'batch_input_shape': (None, 28, 28), 'dtype': 'float32', 'data_format': 'channels_last'}\n",
            "{'name': 'rescaling_6', 'trainable': True, 'dtype': 'float32', 'scale': 0.00392156862745098, 'offset': 0.0}\n",
            "{'name': 'dense_15', 'trainable': True, 'dtype': 'float32', 'units': 80, 'activation': 'leaky_relu', 'use_bias': True, 'kernel_initializer': {'class_name': 'GlorotUniform', 'config': {'seed': None}}, 'bias_initializer': {'class_name': 'Zeros', 'config': {}}, 'kernel_regularizer': None, 'bias_regularizer': None, 'activity_regularizer': None, 'kernel_constraint': None, 'bias_constraint': None}\n",
            "{'name': 'dense_16', 'trainable': True, 'dtype': 'float32', 'units': 40, 'activation': 'leaky_relu', 'use_bias': True, 'kernel_initializer': {'class_name': 'GlorotUniform', 'config': {'seed': None}}, 'bias_initializer': {'class_name': 'Zeros', 'config': {}}, 'kernel_regularizer': None, 'bias_regularizer': None, 'activity_regularizer': None, 'kernel_constraint': None, 'bias_constraint': None}\n",
            "{'name': 'dense_17', 'trainable': True, 'dtype': 'float32', 'units': 10, 'activation': 'linear', 'use_bias': True, 'kernel_initializer': {'class_name': 'GlorotUniform', 'config': {'seed': None}}, 'bias_initializer': {'class_name': 'Zeros', 'config': {}}, 'kernel_regularizer': None, 'bias_regularizer': None, 'activity_regularizer': None, 'kernel_constraint': None, 'bias_constraint': None}\n",
            "{'name': 'softmax_6', 'trainable': True, 'dtype': 'float32', 'axis': -1}\n"
          ]
        }
      ]
    },
    {
      "cell_type": "code",
      "source": [
        "# função perda (loss)\n",
        "#  - https://www.tensorflow.org/api_docs/python/tf/keras/losses\n",
        "my_loss = tf.keras.losses.CategoricalCrossentropy( \n",
        "    from_logits=True,\n",
        ")\n",
        "\n",
        "# lista de métricas que serão monitoradas (e armazenadas) durante a otimização\n",
        "#  - https://www.tensorflow.org/api_docs/python/tf/keras/metrics\n",
        "#  - https://en.wikipedia.org/wiki/Confusion_matrix                # nunca mais se confunda com a matriz confusão!\n",
        "my_metrics = [\n",
        "    tf.keras.metrics.CategoricalAccuracy(),\n",
        "    #tf.keras.metrics.Precision(),\n",
        "    #tf.keras.metrics.Recall(),\n",
        "    #tf.keras.metrics.TruePositives(),\n",
        "    #tf.keras.metrics.FalseNegatives(),\n",
        "    # coloque suas métricas desejadas aqui ...\n",
        "]\n",
        "\n",
        "# Taxa de aprendizado (learning rate)\n",
        "#  - https://www.tensorflow.org/api_docs/python/tf/keras/optimizers/schedules\n",
        "lr = 1e-3\n",
        "\n",
        "# Algoritmo de otimização (você pode testar outros)\n",
        "#  - https://www.tensorflow.org/api_docs/python/tf/keras/optimizers\n",
        "my_optimizer = tf.keras.optimizers.Adam(\n",
        "    learning_rate=lr,\n",
        ")\n",
        "\n",
        "\n",
        "# compila o modelo\n",
        "model.compile(\n",
        "    loss=my_loss,\n",
        "    optimizer=my_optimizer,\n",
        "    metrics=my_metrics,\n",
        ")"
      ],
      "metadata": {
        "id": "qCDr8ZYvkaJS"
      },
      "execution_count": null,
      "outputs": []
    },
    {
      "cell_type": "code",
      "source": [
        "# Escolha o número de épocas pelas quais você quer treinar e o tamanho do lote (batch size)\n",
        "n_epochs = 100\n",
        "my_batch_size = 100\n",
        "\n",
        "history = model.fit(\n",
        "    x_train, Y_train,\n",
        "    batch_size=my_batch_size,\n",
        "    epochs=n_epochs,\n",
        "    verbose=2,\n",
        "    validation_data=(x_test, Y_test)\n",
        ")"
      ],
      "metadata": {
        "id": "Y6iPaapvny57",
        "colab": {
          "base_uri": "https://localhost:8080/"
        },
        "outputId": "fd5cf0e4-c332-4dbe-d4d1-fedf5103d1eb"
      },
      "execution_count": null,
      "outputs": [
        {
          "output_type": "stream",
          "name": "stdout",
          "text": [
            "Epoch 1/100\n",
            "600/600 - 4s - loss: 1.6199 - categorical_accuracy: 0.8587 - val_loss: 1.5409 - val_categorical_accuracy: 0.9268 - 4s/epoch - 7ms/step\n",
            "Epoch 2/100\n",
            "600/600 - 2s - loss: 1.5338 - categorical_accuracy: 0.9330 - val_loss: 1.5243 - val_categorical_accuracy: 0.9397 - 2s/epoch - 4ms/step\n",
            "Epoch 3/100\n",
            "600/600 - 2s - loss: 1.5199 - categorical_accuracy: 0.9453 - val_loss: 1.5200 - val_categorical_accuracy: 0.9439 - 2s/epoch - 4ms/step\n",
            "Epoch 4/100\n",
            "600/600 - 2s - loss: 1.5115 - categorical_accuracy: 0.9531 - val_loss: 1.5105 - val_categorical_accuracy: 0.9522 - 2s/epoch - 4ms/step\n",
            "Epoch 5/100\n",
            "600/600 - 2s - loss: 1.5054 - categorical_accuracy: 0.9584 - val_loss: 1.5101 - val_categorical_accuracy: 0.9532 - 2s/epoch - 4ms/step\n",
            "Epoch 6/100\n",
            "600/600 - 3s - loss: 1.5010 - categorical_accuracy: 0.9624 - val_loss: 1.5060 - val_categorical_accuracy: 0.9570 - 3s/epoch - 6ms/step\n",
            "Epoch 7/100\n",
            "600/600 - 2s - loss: 1.4976 - categorical_accuracy: 0.9656 - val_loss: 1.5012 - val_categorical_accuracy: 0.9620 - 2s/epoch - 4ms/step\n",
            "Epoch 8/100\n",
            "600/600 - 2s - loss: 1.4944 - categorical_accuracy: 0.9686 - val_loss: 1.4977 - val_categorical_accuracy: 0.9649 - 2s/epoch - 4ms/step\n",
            "Epoch 9/100\n",
            "600/600 - 2s - loss: 1.4916 - categorical_accuracy: 0.9715 - val_loss: 1.4980 - val_categorical_accuracy: 0.9650 - 2s/epoch - 4ms/step\n",
            "Epoch 10/100\n",
            "600/600 - 2s - loss: 1.4895 - categorical_accuracy: 0.9732 - val_loss: 1.4975 - val_categorical_accuracy: 0.9639 - 2s/epoch - 4ms/step\n",
            "Epoch 11/100\n",
            "600/600 - 3s - loss: 1.4873 - categorical_accuracy: 0.9755 - val_loss: 1.4936 - val_categorical_accuracy: 0.9693 - 3s/epoch - 6ms/step\n",
            "Epoch 12/100\n",
            "600/600 - 2s - loss: 1.4858 - categorical_accuracy: 0.9766 - val_loss: 1.4938 - val_categorical_accuracy: 0.9680 - 2s/epoch - 4ms/step\n",
            "Epoch 13/100\n",
            "600/600 - 2s - loss: 1.4844 - categorical_accuracy: 0.9780 - val_loss: 1.4927 - val_categorical_accuracy: 0.9701 - 2s/epoch - 4ms/step\n",
            "Epoch 14/100\n",
            "600/600 - 2s - loss: 1.4827 - categorical_accuracy: 0.9797 - val_loss: 1.4938 - val_categorical_accuracy: 0.9678 - 2s/epoch - 4ms/step\n",
            "Epoch 15/100\n",
            "600/600 - 2s - loss: 1.4822 - categorical_accuracy: 0.9802 - val_loss: 1.4896 - val_categorical_accuracy: 0.9720 - 2s/epoch - 4ms/step\n",
            "Epoch 16/100\n",
            "600/600 - 3s - loss: 1.4817 - categorical_accuracy: 0.9804 - val_loss: 1.4927 - val_categorical_accuracy: 0.9682 - 3s/epoch - 6ms/step\n",
            "Epoch 17/100\n",
            "600/600 - 2s - loss: 1.4811 - categorical_accuracy: 0.9811 - val_loss: 1.4901 - val_categorical_accuracy: 0.9717 - 2s/epoch - 4ms/step\n",
            "Epoch 18/100\n",
            "600/600 - 2s - loss: 1.4799 - categorical_accuracy: 0.9821 - val_loss: 1.4918 - val_categorical_accuracy: 0.9701 - 2s/epoch - 4ms/step\n",
            "Epoch 19/100\n",
            "600/600 - 2s - loss: 1.4789 - categorical_accuracy: 0.9830 - val_loss: 1.4915 - val_categorical_accuracy: 0.9699 - 2s/epoch - 4ms/step\n",
            "Epoch 20/100\n",
            "600/600 - 2s - loss: 1.4787 - categorical_accuracy: 0.9833 - val_loss: 1.4896 - val_categorical_accuracy: 0.9724 - 2s/epoch - 4ms/step\n",
            "Epoch 21/100\n",
            "600/600 - 3s - loss: 1.4782 - categorical_accuracy: 0.9837 - val_loss: 1.4892 - val_categorical_accuracy: 0.9725 - 3s/epoch - 5ms/step\n",
            "Epoch 22/100\n",
            "600/600 - 2s - loss: 1.4775 - categorical_accuracy: 0.9844 - val_loss: 1.4913 - val_categorical_accuracy: 0.9699 - 2s/epoch - 4ms/step\n",
            "Epoch 23/100\n",
            "600/600 - 2s - loss: 1.4771 - categorical_accuracy: 0.9850 - val_loss: 1.4907 - val_categorical_accuracy: 0.9706 - 2s/epoch - 4ms/step\n",
            "Epoch 24/100\n",
            "600/600 - 2s - loss: 1.4763 - categorical_accuracy: 0.9856 - val_loss: 1.4861 - val_categorical_accuracy: 0.9749 - 2s/epoch - 4ms/step\n",
            "Epoch 25/100\n",
            "600/600 - 2s - loss: 1.4759 - categorical_accuracy: 0.9858 - val_loss: 1.4873 - val_categorical_accuracy: 0.9743 - 2s/epoch - 4ms/step\n",
            "Epoch 26/100\n",
            "600/600 - 3s - loss: 1.4756 - categorical_accuracy: 0.9862 - val_loss: 1.4878 - val_categorical_accuracy: 0.9740 - 3s/epoch - 5ms/step\n",
            "Epoch 27/100\n",
            "600/600 - 3s - loss: 1.4750 - categorical_accuracy: 0.9868 - val_loss: 1.4882 - val_categorical_accuracy: 0.9733 - 3s/epoch - 4ms/step\n",
            "Epoch 28/100\n",
            "600/600 - 2s - loss: 1.4749 - categorical_accuracy: 0.9868 - val_loss: 1.4879 - val_categorical_accuracy: 0.9730 - 2s/epoch - 4ms/step\n",
            "Epoch 29/100\n",
            "600/600 - 2s - loss: 1.4743 - categorical_accuracy: 0.9875 - val_loss: 1.4884 - val_categorical_accuracy: 0.9733 - 2s/epoch - 4ms/step\n",
            "Epoch 30/100\n",
            "600/600 - 2s - loss: 1.4745 - categorical_accuracy: 0.9872 - val_loss: 1.4883 - val_categorical_accuracy: 0.9736 - 2s/epoch - 4ms/step\n",
            "Epoch 31/100\n",
            "600/600 - 3s - loss: 1.4740 - categorical_accuracy: 0.9876 - val_loss: 1.4888 - val_categorical_accuracy: 0.9729 - 3s/epoch - 6ms/step\n",
            "Epoch 32/100\n",
            "600/600 - 2s - loss: 1.4730 - categorical_accuracy: 0.9887 - val_loss: 1.4871 - val_categorical_accuracy: 0.9742 - 2s/epoch - 4ms/step\n",
            "Epoch 33/100\n",
            "600/600 - 2s - loss: 1.4738 - categorical_accuracy: 0.9878 - val_loss: 1.4871 - val_categorical_accuracy: 0.9742 - 2s/epoch - 4ms/step\n",
            "Epoch 34/100\n",
            "600/600 - 2s - loss: 1.4734 - categorical_accuracy: 0.9882 - val_loss: 1.4887 - val_categorical_accuracy: 0.9729 - 2s/epoch - 4ms/step\n",
            "Epoch 35/100\n",
            "600/600 - 2s - loss: 1.4734 - categorical_accuracy: 0.9880 - val_loss: 1.4864 - val_categorical_accuracy: 0.9752 - 2s/epoch - 4ms/step\n",
            "Epoch 36/100\n",
            "600/600 - 3s - loss: 1.4725 - categorical_accuracy: 0.9890 - val_loss: 1.4863 - val_categorical_accuracy: 0.9750 - 3s/epoch - 5ms/step\n",
            "Epoch 37/100\n",
            "600/600 - 2s - loss: 1.4727 - categorical_accuracy: 0.9887 - val_loss: 1.4862 - val_categorical_accuracy: 0.9753 - 2s/epoch - 4ms/step\n",
            "Epoch 38/100\n",
            "600/600 - 3s - loss: 1.4724 - categorical_accuracy: 0.9891 - val_loss: 1.4866 - val_categorical_accuracy: 0.9750 - 3s/epoch - 5ms/step\n",
            "Epoch 39/100\n",
            "600/600 - 3s - loss: 1.4720 - categorical_accuracy: 0.9895 - val_loss: 1.4885 - val_categorical_accuracy: 0.9730 - 3s/epoch - 4ms/step\n",
            "Epoch 40/100\n",
            "600/600 - 2s - loss: 1.4724 - categorical_accuracy: 0.9891 - val_loss: 1.4878 - val_categorical_accuracy: 0.9729 - 2s/epoch - 4ms/step\n",
            "Epoch 41/100\n",
            "600/600 - 3s - loss: 1.4718 - categorical_accuracy: 0.9897 - val_loss: 1.4881 - val_categorical_accuracy: 0.9726 - 3s/epoch - 5ms/step\n",
            "Epoch 42/100\n",
            "600/600 - 2s - loss: 1.4715 - categorical_accuracy: 0.9901 - val_loss: 1.4891 - val_categorical_accuracy: 0.9724 - 2s/epoch - 4ms/step\n",
            "Epoch 43/100\n",
            "600/600 - 2s - loss: 1.4714 - categorical_accuracy: 0.9902 - val_loss: 1.4853 - val_categorical_accuracy: 0.9761 - 2s/epoch - 4ms/step\n",
            "Epoch 44/100\n",
            "600/600 - 2s - loss: 1.4713 - categorical_accuracy: 0.9902 - val_loss: 1.4871 - val_categorical_accuracy: 0.9740 - 2s/epoch - 4ms/step\n",
            "Epoch 45/100\n",
            "600/600 - 3s - loss: 1.4709 - categorical_accuracy: 0.9906 - val_loss: 1.4876 - val_categorical_accuracy: 0.9734 - 3s/epoch - 4ms/step\n",
            "Epoch 46/100\n",
            "600/600 - 3s - loss: 1.4700 - categorical_accuracy: 0.9914 - val_loss: 1.4854 - val_categorical_accuracy: 0.9764 - 3s/epoch - 5ms/step\n",
            "Epoch 47/100\n",
            "600/600 - 2s - loss: 1.4711 - categorical_accuracy: 0.9904 - val_loss: 1.4878 - val_categorical_accuracy: 0.9733 - 2s/epoch - 4ms/step\n",
            "Epoch 48/100\n",
            "600/600 - 2s - loss: 1.4702 - categorical_accuracy: 0.9912 - val_loss: 1.4854 - val_categorical_accuracy: 0.9760 - 2s/epoch - 4ms/step\n",
            "Epoch 49/100\n",
            "600/600 - 2s - loss: 1.4702 - categorical_accuracy: 0.9912 - val_loss: 1.4885 - val_categorical_accuracy: 0.9726 - 2s/epoch - 4ms/step\n",
            "Epoch 50/100\n",
            "600/600 - 2s - loss: 1.4702 - categorical_accuracy: 0.9912 - val_loss: 1.4876 - val_categorical_accuracy: 0.9730 - 2s/epoch - 4ms/step\n",
            "Epoch 51/100\n",
            "600/600 - 3s - loss: 1.4692 - categorical_accuracy: 0.9922 - val_loss: 1.4870 - val_categorical_accuracy: 0.9743 - 3s/epoch - 6ms/step\n",
            "Epoch 52/100\n",
            "600/600 - 2s - loss: 1.4702 - categorical_accuracy: 0.9912 - val_loss: 1.4854 - val_categorical_accuracy: 0.9754 - 2s/epoch - 4ms/step\n",
            "Epoch 53/100\n",
            "600/600 - 2s - loss: 1.4703 - categorical_accuracy: 0.9911 - val_loss: 1.4849 - val_categorical_accuracy: 0.9764 - 2s/epoch - 4ms/step\n",
            "Epoch 54/100\n",
            "600/600 - 2s - loss: 1.4702 - categorical_accuracy: 0.9912 - val_loss: 1.4875 - val_categorical_accuracy: 0.9737 - 2s/epoch - 4ms/step\n",
            "Epoch 55/100\n",
            "600/600 - 3s - loss: 1.4694 - categorical_accuracy: 0.9920 - val_loss: 1.4866 - val_categorical_accuracy: 0.9752 - 3s/epoch - 4ms/step\n",
            "Epoch 56/100\n",
            "600/600 - 3s - loss: 1.4692 - categorical_accuracy: 0.9921 - val_loss: 1.4874 - val_categorical_accuracy: 0.9734 - 3s/epoch - 6ms/step\n",
            "Epoch 57/100\n",
            "600/600 - 2s - loss: 1.4692 - categorical_accuracy: 0.9922 - val_loss: 1.4853 - val_categorical_accuracy: 0.9759 - 2s/epoch - 4ms/step\n",
            "Epoch 58/100\n",
            "600/600 - 2s - loss: 1.4693 - categorical_accuracy: 0.9921 - val_loss: 1.4861 - val_categorical_accuracy: 0.9751 - 2s/epoch - 4ms/step\n",
            "Epoch 59/100\n",
            "600/600 - 2s - loss: 1.4697 - categorical_accuracy: 0.9916 - val_loss: 1.4861 - val_categorical_accuracy: 0.9750 - 2s/epoch - 4ms/step\n",
            "Epoch 60/100\n",
            "600/600 - 2s - loss: 1.4686 - categorical_accuracy: 0.9927 - val_loss: 1.4846 - val_categorical_accuracy: 0.9768 - 2s/epoch - 4ms/step\n",
            "Epoch 61/100\n",
            "600/600 - 3s - loss: 1.4688 - categorical_accuracy: 0.9925 - val_loss: 1.4868 - val_categorical_accuracy: 0.9741 - 3s/epoch - 6ms/step\n",
            "Epoch 62/100\n",
            "600/600 - 2s - loss: 1.4695 - categorical_accuracy: 0.9919 - val_loss: 1.4857 - val_categorical_accuracy: 0.9756 - 2s/epoch - 4ms/step\n",
            "Epoch 63/100\n",
            "600/600 - 2s - loss: 1.4690 - categorical_accuracy: 0.9924 - val_loss: 1.4847 - val_categorical_accuracy: 0.9767 - 2s/epoch - 4ms/step\n",
            "Epoch 64/100\n",
            "600/600 - 2s - loss: 1.4686 - categorical_accuracy: 0.9927 - val_loss: 1.4837 - val_categorical_accuracy: 0.9778 - 2s/epoch - 4ms/step\n",
            "Epoch 65/100\n",
            "600/600 - 2s - loss: 1.4692 - categorical_accuracy: 0.9921 - val_loss: 1.4857 - val_categorical_accuracy: 0.9753 - 2s/epoch - 4ms/step\n",
            "Epoch 66/100\n",
            "600/600 - 3s - loss: 1.4687 - categorical_accuracy: 0.9926 - val_loss: 1.4855 - val_categorical_accuracy: 0.9755 - 3s/epoch - 6ms/step\n",
            "Epoch 67/100\n",
            "600/600 - 2s - loss: 1.4685 - categorical_accuracy: 0.9929 - val_loss: 1.4862 - val_categorical_accuracy: 0.9751 - 2s/epoch - 4ms/step\n",
            "Epoch 68/100\n",
            "600/600 - 2s - loss: 1.4683 - categorical_accuracy: 0.9930 - val_loss: 1.4842 - val_categorical_accuracy: 0.9770 - 2s/epoch - 4ms/step\n",
            "Epoch 69/100\n",
            "600/600 - 2s - loss: 1.4683 - categorical_accuracy: 0.9930 - val_loss: 1.4856 - val_categorical_accuracy: 0.9756 - 2s/epoch - 4ms/step\n",
            "Epoch 70/100\n",
            "600/600 - 2s - loss: 1.4684 - categorical_accuracy: 0.9930 - val_loss: 1.4867 - val_categorical_accuracy: 0.9744 - 2s/epoch - 4ms/step\n",
            "Epoch 71/100\n",
            "600/600 - 3s - loss: 1.4683 - categorical_accuracy: 0.9930 - val_loss: 1.4857 - val_categorical_accuracy: 0.9754 - 3s/epoch - 5ms/step\n",
            "Epoch 72/100\n",
            "600/600 - 2s - loss: 1.4681 - categorical_accuracy: 0.9934 - val_loss: 1.4860 - val_categorical_accuracy: 0.9756 - 2s/epoch - 4ms/step\n",
            "Epoch 73/100\n",
            "600/600 - 2s - loss: 1.4684 - categorical_accuracy: 0.9928 - val_loss: 1.4860 - val_categorical_accuracy: 0.9751 - 2s/epoch - 4ms/step\n",
            "Epoch 74/100\n",
            "600/600 - 2s - loss: 1.4685 - categorical_accuracy: 0.9927 - val_loss: 1.4873 - val_categorical_accuracy: 0.9740 - 2s/epoch - 4ms/step\n",
            "Epoch 75/100\n",
            "600/600 - 2s - loss: 1.4677 - categorical_accuracy: 0.9935 - val_loss: 1.4856 - val_categorical_accuracy: 0.9756 - 2s/epoch - 4ms/step\n",
            "Epoch 76/100\n",
            "600/600 - 3s - loss: 1.4681 - categorical_accuracy: 0.9932 - val_loss: 1.4855 - val_categorical_accuracy: 0.9756 - 3s/epoch - 5ms/step\n",
            "Epoch 77/100\n",
            "600/600 - 2s - loss: 1.4683 - categorical_accuracy: 0.9930 - val_loss: 1.4876 - val_categorical_accuracy: 0.9739 - 2s/epoch - 4ms/step\n",
            "Epoch 78/100\n",
            "600/600 - 2s - loss: 1.4679 - categorical_accuracy: 0.9934 - val_loss: 1.4843 - val_categorical_accuracy: 0.9767 - 2s/epoch - 4ms/step\n",
            "Epoch 79/100\n",
            "600/600 - 3s - loss: 1.4679 - categorical_accuracy: 0.9933 - val_loss: 1.4846 - val_categorical_accuracy: 0.9765 - 3s/epoch - 4ms/step\n",
            "Epoch 80/100\n",
            "600/600 - 2s - loss: 1.4676 - categorical_accuracy: 0.9936 - val_loss: 1.4853 - val_categorical_accuracy: 0.9760 - 2s/epoch - 4ms/step\n",
            "Epoch 81/100\n",
            "600/600 - 3s - loss: 1.4680 - categorical_accuracy: 0.9933 - val_loss: 1.4867 - val_categorical_accuracy: 0.9745 - 3s/epoch - 5ms/step\n",
            "Epoch 82/100\n",
            "600/600 - 2s - loss: 1.4684 - categorical_accuracy: 0.9930 - val_loss: 1.4864 - val_categorical_accuracy: 0.9746 - 2s/epoch - 4ms/step\n",
            "Epoch 83/100\n",
            "600/600 - 2s - loss: 1.4678 - categorical_accuracy: 0.9934 - val_loss: 1.4850 - val_categorical_accuracy: 0.9762 - 2s/epoch - 4ms/step\n",
            "Epoch 84/100\n",
            "600/600 - 2s - loss: 1.4672 - categorical_accuracy: 0.9942 - val_loss: 1.4851 - val_categorical_accuracy: 0.9762 - 2s/epoch - 4ms/step\n",
            "Epoch 85/100\n",
            "600/600 - 2s - loss: 1.4676 - categorical_accuracy: 0.9936 - val_loss: 1.4879 - val_categorical_accuracy: 0.9736 - 2s/epoch - 4ms/step\n",
            "Epoch 86/100\n",
            "600/600 - 3s - loss: 1.4680 - categorical_accuracy: 0.9933 - val_loss: 1.4849 - val_categorical_accuracy: 0.9762 - 3s/epoch - 6ms/step\n",
            "Epoch 87/100\n",
            "600/600 - 2s - loss: 1.4683 - categorical_accuracy: 0.9930 - val_loss: 1.4836 - val_categorical_accuracy: 0.9773 - 2s/epoch - 4ms/step\n",
            "Epoch 88/100\n",
            "600/600 - 2s - loss: 1.4668 - categorical_accuracy: 0.9945 - val_loss: 1.4861 - val_categorical_accuracy: 0.9745 - 2s/epoch - 4ms/step\n",
            "Epoch 89/100\n",
            "600/600 - 2s - loss: 1.4677 - categorical_accuracy: 0.9935 - val_loss: 1.4846 - val_categorical_accuracy: 0.9765 - 2s/epoch - 4ms/step\n",
            "Epoch 90/100\n",
            "600/600 - 2s - loss: 1.4680 - categorical_accuracy: 0.9932 - val_loss: 1.4836 - val_categorical_accuracy: 0.9776 - 2s/epoch - 4ms/step\n",
            "Epoch 91/100\n",
            "600/600 - 4s - loss: 1.4670 - categorical_accuracy: 0.9942 - val_loss: 1.4854 - val_categorical_accuracy: 0.9756 - 4s/epoch - 6ms/step\n",
            "Epoch 92/100\n",
            "600/600 - 2s - loss: 1.4673 - categorical_accuracy: 0.9940 - val_loss: 1.4871 - val_categorical_accuracy: 0.9738 - 2s/epoch - 4ms/step\n",
            "Epoch 93/100\n",
            "600/600 - 2s - loss: 1.4675 - categorical_accuracy: 0.9937 - val_loss: 1.4865 - val_categorical_accuracy: 0.9746 - 2s/epoch - 4ms/step\n",
            "Epoch 94/100\n",
            "600/600 - 2s - loss: 1.4676 - categorical_accuracy: 0.9937 - val_loss: 1.4844 - val_categorical_accuracy: 0.9767 - 2s/epoch - 4ms/step\n",
            "Epoch 95/100\n",
            "600/600 - 2s - loss: 1.4674 - categorical_accuracy: 0.9939 - val_loss: 1.4871 - val_categorical_accuracy: 0.9739 - 2s/epoch - 4ms/step\n",
            "Epoch 96/100\n",
            "600/600 - 3s - loss: 1.4674 - categorical_accuracy: 0.9938 - val_loss: 1.4842 - val_categorical_accuracy: 0.9768 - 3s/epoch - 5ms/step\n",
            "Epoch 97/100\n",
            "600/600 - 2s - loss: 1.4675 - categorical_accuracy: 0.9937 - val_loss: 1.4835 - val_categorical_accuracy: 0.9776 - 2s/epoch - 4ms/step\n",
            "Epoch 98/100\n",
            "600/600 - 2s - loss: 1.4669 - categorical_accuracy: 0.9944 - val_loss: 1.4839 - val_categorical_accuracy: 0.9774 - 2s/epoch - 4ms/step\n",
            "Epoch 99/100\n",
            "600/600 - 2s - loss: 1.4672 - categorical_accuracy: 0.9941 - val_loss: 1.4835 - val_categorical_accuracy: 0.9776 - 2s/epoch - 4ms/step\n",
            "Epoch 100/100\n",
            "600/600 - 2s - loss: 1.4672 - categorical_accuracy: 0.9941 - val_loss: 1.4839 - val_categorical_accuracy: 0.9769 - 2s/epoch - 4ms/step\n"
          ]
        }
      ]
    },
    {
      "cell_type": "markdown",
      "source": [
        "## Vamos fazer um gráfico das métricas"
      ],
      "metadata": {
        "id": "oYKgwMgmWB4H"
      }
    },
    {
      "cell_type": "code",
      "source": [
        "n_metrics = len(history.history.keys())\n",
        "\n",
        "print('Número de métricas armazenadas:', n_metrics)\n",
        "print('Métricas:', history.history.keys())\n",
        "\n",
        "# vamos fazer um loop sobre as métricas no histórico e fazer um gráfico pra cada uma delas\n",
        "for metric_name in history.history.keys():\n",
        "  if metric_name.startswith('val'):\n",
        "    # se a métrica começa com \"val\" (ou seja, se refere ao conjunto de validação/testes), pula\n",
        "    continue\n",
        "  else:\n",
        "    plt.plot(history.history[metric_name], label='train')            # métricas de treino\n",
        "    plt.plot(history.history['val_' + metric_name], label='test')    # métricas de teste/validação \n",
        "    plt.ylabel(metric_name)\n",
        "    plt.xlabel('epoch')\n",
        "    plt.legend()\n",
        "    plt.show()"
      ],
      "metadata": {
        "id": "3RfYreLXzlLe",
        "colab": {
          "base_uri": "https://localhost:8080/",
          "height": 579
        },
        "outputId": "7e28c2ac-ff09-41f8-d1b1-216c47228141"
      },
      "execution_count": null,
      "outputs": [
        {
          "output_type": "stream",
          "name": "stdout",
          "text": [
            "Número de métricas armazenadas: 4\n",
            "Métricas: dict_keys(['loss', 'categorical_accuracy', 'val_loss', 'val_categorical_accuracy'])\n"
          ]
        },
        {
          "output_type": "display_data",
          "data": {
            "text/plain": [
              "<Figure size 432x288 with 1 Axes>"
            ],
            "image/png": "[encoded data removed]"
          },
          "metadata": {
            "needs_background": "light"
          }
        },
        {
          "output_type": "display_data",
          "data": {
            "text/plain": [
              "<Figure size 432x288 with 1 Axes>"
            ],
            "image/png": "[encoded data removed]"
          },
          "metadata": {
            "needs_background": "light"
          }
        }
      ]
    },
    {
      "cell_type": "markdown",
      "source": [
        "# Analise os gráficos acima e tente entender o que está acontencendo\n",
        "\n",
        "*   Sinais de underfitting ou overfitting?\n",
        "*   Melhorando ou piorando com o treinamento?\n",
        "*   Treino e teste andando juntos, separados? Correlacionados ou anticorrelacionados?\n",
        "*   Que testes fazer a mais? Precisa de mais testes?\n",
        "*   Outras métricas, método de otimização, detalhes do método de otimização (hiperparâmetros como learning rate, batch size, ...)?\n",
        "*   Taxas de erro, de acerto? Erra uniformemente entre as categorias?\n",
        "*   https://en.wikipedia.org/wiki/Sensitivity_and_specificity\n",
        "*   Você está feliz com os resultados?\n"
      ],
      "metadata": {
        "id": "l0SP3f_E0vyz"
      }
    },
    {
      "cell_type": "markdown",
      "source": [
        "\n",
        "\n",
        "---\n",
        "\n",
        "## Hora de testar pra valer!"
      ],
      "metadata": {
        "id": "g3UeILOnaRNS"
      }
    },
    {
      "cell_type": "code",
      "source": [
        "from IPython.display import HTML, Image\n",
        "from google.colab.output import eval_js\n",
        "from base64 import b64decode\n",
        "\n",
        "canvas_html = \"\"\"\n",
        "<canvas width=%d height=%d></canvas>\n",
        "<button>Finish</button>\n",
        "<script>\n",
        "var canvas = document.querySelector('canvas')\n",
        "var ctx = canvas.getContext('2d')\n",
        "ctx.fillStyle = \"#FFFFFF\";\n",
        "ctx.fillRect(0, 0, canvas.width, canvas.height);\n",
        "ctx.lineWidth = %d\n",
        "var button = document.querySelector('button')\n",
        "var mouse = {x: 0, y: 0}\n",
        "canvas.addEventListener('mousemove', function(e) {\n",
        "  mouse.x = e.pageX - this.offsetLeft\n",
        "  mouse.y = e.pageY - this.offsetTop\n",
        "})\n",
        "canvas.onmousedown = ()=>{\n",
        "  ctx.beginPath()\n",
        "  ctx.moveTo(mouse.x, mouse.y)\n",
        "  canvas.addEventListener('mousemove', onPaint)\n",
        "}\n",
        "canvas.onmouseup = ()=>{\n",
        "  canvas.removeEventListener('mousemove', onPaint)\n",
        "}\n",
        "var onPaint = ()=>{\n",
        "  ctx.lineTo(mouse.x, mouse.y)\n",
        "  ctx.stroke()\n",
        "}\n",
        "var data = new Promise(resolve=>{\n",
        "  button.onclick = ()=>{\n",
        "    resolve(canvas.toDataURL('image/png'))\n",
        "  }\n",
        "})\n",
        "</script>\n",
        "\"\"\"\n",
        "\n",
        "def draw(filename='drawing.png', w=300, h=300, line_width=15):\n",
        "  display(HTML(canvas_html % (w, h, line_width)))\n",
        "  data = eval_js(\"data\")\n",
        "  binary = b64decode(data.split(',')[1])\n",
        "  #with open(filename, 'wb') as f:\n",
        "  #  f.write(binary)\n",
        "  return binary"
      ],
      "metadata": {
        "id": "LVCHVTjz8L1F"
      },
      "execution_count": null,
      "outputs": []
    },
    {
      "cell_type": "markdown",
      "source": [
        "#Escreva um número com o mouse"
      ],
      "metadata": {
        "id": "S6dqLc-ngMs4"
      }
    },
    {
      "cell_type": "code",
      "source": [
        "img = draw(w=300, h=300, line_width=20)"
      ],
      "metadata": {
        "colab": {
          "base_uri": "https://localhost:8080/",
          "height": 323
        },
        "id": "Hc9sBCCRH14y",
        "outputId": "a6b8b8dc-0523-49b1-e620-6cc8a20c75b1"
      },
      "execution_count": null,
      "outputs": [
        {
          "output_type": "display_data",
          "data": {
            "text/plain": [
              "<IPython.core.display.HTML object>"
            ],
            "text/html": [
              "\n",
              "<canvas width=300 height=300></canvas>\n",
              "<button>Finish</button>\n",
              "<script>\n",
              "var canvas = document.querySelector('canvas')\n",
              "var ctx = canvas.getContext('2d')\n",
              "ctx.fillStyle = \"#FFFFFF\";\n",
              "ctx.fillRect(0, 0, canvas.width, canvas.height);\n",
              "ctx.lineWidth = 20\n",
              "var button = document.querySelector('button')\n",
              "var mouse = {x: 0, y: 0}\n",
              "canvas.addEventListener('mousemove', function(e) {\n",
              "  mouse.x = e.pageX - this.offsetLeft\n",
              "  mouse.y = e.pageY - this.offsetTop\n",
              "})\n",
              "canvas.onmousedown = ()=>{\n",
              "  ctx.beginPath()\n",
              "  ctx.moveTo(mouse.x, mouse.y)\n",
              "  canvas.addEventListener('mousemove', onPaint)\n",
              "}\n",
              "canvas.onmouseup = ()=>{\n",
              "  canvas.removeEventListener('mousemove', onPaint)\n",
              "}\n",
              "var onPaint = ()=>{\n",
              "  ctx.lineTo(mouse.x, mouse.y)\n",
              "  ctx.stroke()\n",
              "}\n",
              "var data = new Promise(resolve=>{\n",
              "  button.onclick = ()=>{\n",
              "    resolve(canvas.toDataURL('image/png'))\n",
              "  }\n",
              "})\n",
              "</script>\n"
            ]
          },
          "metadata": {}
        }
      ]
    },
    {
      "cell_type": "code",
      "source": [
        "print('Este é seu número em PNG:')\n",
        "print(img)"
      ],
      "metadata": {
        "id": "0Odq99xdKnk6",
        "colab": {
          "base_uri": "https://localhost:8080/"
        },
        "outputId": "90bcf38d-70fe-472c-ca9b-0d8de23b32ac"
      },
      "execution_count": null,
      "outputs": [
        {
          "output_type": "stream",
          "name": "stdout",
          "text": [
            "Este é seu número em PNG:\n",
            "b'\\x89PNG\\r\\n\\x1a\\n\\x00\\x00\\x00\\rIHDR\\x00\\x00\\x01,\\x00\\x00\\x01,\\x08\\x06\\x00\\x00\\x00y}\\x8eu\\x00\\x00\\x00\\x01sRGB\\x00\\xae\\xce\\x1c\\xe9\\x00\\x00\\x13\\xd5IDATx^\\xed\\x9d1\\x93TE\\x10\\x80\\xdfq\\xc0QeYe\\x01\\xa2\\x89b\\xa6\\xb1eJQd$\\x06\\xa6f\\xe6\\xfe\\x053\\xff\\x82\\xb9\\xa1\\t\\x19\\x91U\\x06\\x94\\xa9e\\x0c\\x19dZ\\xa0\\x01\\xd1\\x1drw\\xd6\\x1c\\x9c.\\xcb\\xee\\xbe\\x997\\xdd3\\xd3\\xdd\\xdfU\\x111\\xafg\\xe6\\xeb~\\xdf\\xce\\xcc\\xbe\\xdd\\xdd;===\\x9d\\xf8\\x83\\x00\\x04 `\\x80\\xc0\\x1e\\xc22\\x90%\\x86\\x08\\x01\\x08\\x9c\\x11@X\\x14\\x02\\x04 `\\x86\\x00\\xc22\\x93*\\x06\\n\\x01\\x08 ,j\\x00\\x02\\x100C\\x00a\\x99I\\x15\\x03\\x85\\x00\\x04\\x10\\x165\\x00\\x01\\x08\\x98!\\x80\\xb0\\xcc\\xa4\\x8a\\x81B\\x00\\x02\\x08\\x8b\\x1a\\x80\\x00\\x04\\xcc\\x10@XfR\\xc5@!\\x00\\x01\\x84E\\r@\\x00\\x02f\\x08 ,3\\xa9b\\xa0\\x10\\x80\\x00\\xc2\\xa2\\x06 \\x00\\x013\\x04\\x10\\x96\\x99T1P\\x08@\\x00aQ\\x03\\x10\\x80\\x80\\x19\\x02\\x08\\xcbL\\xaa\\x18(\\x04 \\x80\\xb0\\xa8\\x01\\x08@\\xc0\\x0c\\x01\\x84e&U\\x0c\\x14\\x02\\x10@X\\xd4\\x00\\x04 `\\x86\\x00\\xc22\\x93*\\x06\\n\\x01\\x08 ,j\\x00\\x02\\x100C\\x00a\\x99I\\x15\\x03\\x85\\x00\\x04\\x10\\x165\\x00\\x01\\x08\\x98!\\x80\\xb0\\xcc\\xa4\\x8a\\x81B\\x00\\x02\\x08\\x8b\\x1a\\x80\\x00\\x04\\xcc\\x10@XfR\\xc5@!\\x00\\x01\\x84\\xe5\\xbc\\x06.\\\\\\xb8p6C\\xab?\\xf0mu\\xdc\\xce\\xcb\\xaa\\xdb\\xf4\\x10V7\\xf4r\\x1d\\xef\\xef\\xef\\x9f\\t\\xc9\\xeb\\xcd\\xedu^r\\x15\\x10\\'\\x12\\xc2\\x1a0\\xd7\\x87\\x87\\x87\\xd3;\\xef\\xbc\\xe3ZB\\xa5\\xd8\\x91V)1\\x9f\\xed\\x11\\xd6 y\\xfd\\xf9\\xe7\\x9f\\xa7\\xbbw\\xef\\xba]%I`\\xde\\xdb\\xdb\\x9b._\\xbe<%\\xa1\\xf3\\x17\\x93\\x00\\xc2\\xea\\x9c\\xf7\\x9f~\\xfai\\xfa\\xfa\\xeb\\xaf\\x11Ua\\x1eXq\\x15\\x02s\\xd2\\x1ca5N\\xe4\\xb3g\\xcf\\xa6\\x1b7n\\x98>\\x08o\\x8clkwHk\\x94L\\xb4\\x1b\\x07\\xc2j\\xc0:\\xbdS\\xc7\\xcd\\xa5\\x03\\x1a\\xae:\\\\G\\x8d\\x8a\\xb0\\x842\\x83\\x94\\x84@.\\x08\\x83\\xb4\\x16@3z\\t\\xc2\\x12H\\xdc\\xfd\\xfb\\xf7\\xa7/\\xbf\\xfcR \\x12!\\x96\\x12888\\xe00~)<C\\xd7!,\\x81d\\xb1\\xba\\x12\\x80(\\x10\"\\xe5\\xe1\\xf8\\xf8X \\x12!F%\\x80\\xb0*3\\xf3\\xddw\\xdfM\\xdf\\x7f\\xff}e\\x14.\\x97\"\\x90\\x1e}899\\x91\\nG\\x9c\\xc1\\x08 \\xac\\x8a\\x84\\\\\\xb9re:::\\xaa\\x88\\xc0\\xa5Z\\x048\\xd7\\xd2\"\\xdb7.\\xc2Z\\xc0\\x9f-\\xe0\\x02h\\x1d.AZ\\x1d\\xa0+w\\x89\\xb0\\n\\x01#\\xabB`\\x1d\\x9b\\xb3=\\xec\\x08_\\xa9k\\x84U\\x086\\xdd\\x04\\xfc\\xd9!\\xc0*\\xcbN\\xaerF\\x8a\\xb0r(\\xbdn\\x83\\xac\\n`\\r\\xd4\\x14i\\r\\x94\\x8c\\xca\\xa1 \\xacL\\x80\\xc8*\\x13\\xd4\\xa0\\xcd\\x90\\xd6\\xa0\\x89)\\x1c\\x16\\xc2\\x9a\\x01\\xf6\\xc3\\x0f?L\\xdf~\\xfbm!V\\x9a\\x8fF\\x80\\xf3\\xac\\xd12\\xb2l<\\x08k\\x077VU\\xcb\\x8aj\\xd4\\xabx\\x1a~\\xd4\\xcc\\xe4\\x8f\\x0bama\\x85\\xac\\xf2\\x8b\\xc8RK\\xb6\\x86\\x96\\xb2\\xf5\\xf6X\\x11\\xd6\\x86\\xfcy\\x96\\xd5\\xf9\\xdcFx\\x1a\\xbc\\x07g\\xb6\\x86\\x08\\xcb6\\x81\\xb5\\xd1\\xf7\\xb8\\x894\\x00\\xa6y\\xa4\\x7f\\xa3\\x7f\\xb6.}Z\\xe0\\xc5\\x8b\\x17M\\xbf~\\x87\\xad\\xa1F\\xc5\\xb5\\x89\\xc9\\nk\\x85\\xf3\\xc8\\xb2\\xb2\"\\xa0\\x9a\\xb2m\\xc9\\x9f\\xadaM\\xa6\\xfa]\\x8b\\xb0^\\xb3oy\\xb3\\x94\\xa4;\\x8d\\xeb\\xde\\xbd{\\xd3W_}Ur\\x99\\xd9\\xb6\\xad>I\\x80\\xb0l\\x96\\x08\\xc2\\x9a\\xa6\\xb3\\xad\\xd3h\\x7fiLO\\x9e<\\x99>\\xfa\\xe8\\xa3\\xd1\\x86\\xa6>\\x9e\\xf4\\xb3e\\xdagl\\x08K=\\x8d*\\x1d\\x84\\x17\\xd6\\x08\\xb2:\\x1f\\xc3\\xe3\\xc7\\x8f\\xa7\\x8f?\\xfeX%\\xd1\\xd6\\x82j\\x7f\\x13\\x06\\xc2\\xb2V\\x11\\xaf\\xc6\\x1bZX\\xbde\\xc5M\\xb3\\xfb\\xa6\\xd1\\xdc\\x1e\\xc2\\x1ea\\x99\"\\xa0\\xfd\\n>\\x07\\x83\\x1bf\\x8e\\xd0\\xebWT\\xa5\\xed:\\xef\\x14\\xe6\\xf1\\x1f\\xadU\\xd8\\x15\\x96\\xe6\\xab\\xf7\\\\\\x92\\x91\\xd5\\x1c\\xa17\\xff_c%\\xcc\\xf3Xe9\\x18\\xa5u\\x08ai\\x14\\xfc\\x92\\x04\\xf2\\xaa\\xbe\\x84\\x9a\\xdeJ\\x8b\\x17\\x8e\\xe5\\xf9\\xe8u%\\xc2jH\\x9e\\x1bd9l\\x8d\\x17\\x1d\\xf2\\xb1<\\x1f\\xbd\\xaeDX\\r\\xc8sc\\xd4CFX\\xf5\\x0c=D@X\\x8aY|\\xfe\\xfc\\xf9\\xf4\\xee\\xbb\\xef*\\xf6\\x10\\'\\xb4\\xc6\\x99#/$\\xf6\\xea\\x07a)\\xe5\\x8c\\x9bA\\x16\\xac\\xc6\\xbb\\xba\\xe4H6G-\\xa2!,\\x05\\xca\\xdc\\x08\\nP\\x15>\\x91@\\x9et\\xf2\\xa4\\x19\\x15a\\t\\xd3\\xe5&\\x10\\x06\\xba\\x12N\\xfa\\x1c\\x8b\\\\\\xe9\\xe5J+2\\xc2\\x12$\\xcb\\r \\x08sC(ia\\xf1,\\x96n\\xbe4\\xa2#,!\\xaa\\xc8J\\x08\\xe4\\x8e0\\xd2\\xc2J]\\x917\\xfd\\xbcI\\xf6\\x80\\xb0\\x04hR\\xf4\\x02\\x103B \\xac\\x0cH\\xce\\x9b \\xac\\xca\\x04\\xf3\\xf4z%\\xc0\\x82\\xcb\\x11V\\x01,\\xa7MC\\x08+7wKn\\x08VW\\xb9t\\xeb\\xdb-\\xc9\\xcf\\\\\\xaf\\xe4o\\x8e\\xd0X\\xff\\x8f\\xb0*\\xde\\x85\\xa2\\xd8\\xdb\\x163\\x0f\\x8f\\xb6\\xe5=bo\\x08\\x0ba\\x8dX\\x97[\\xc7$\\xbd\\xca\\xe2E\\xc7T\\xfac\\x7f\\x81\\xdfz\\xaaJn\\x06\\n\\xbdO\\xa1\\x97\\xe4(g\\x84\\xe41\\x87\\xd28mXa-XaQ\\xe4\\xfd\\n\\x18a\\xf5c?B\\xcf\\x08\\xabPX\\xc8\\xaao\\xd9\"\\xac\\xbe\\xfc{\\xf7\\x8e\\xb0\\n\\x84\\x85\\xacz\\x97\\xab\\xfc/\\x1c\\x91\\xd3\\xfe9-\\x19\\x01\\xc2\\xca\\x14\\x16\\x85]RVzmYa\\xe9\\xb1\\xb5\\x10\\x19ae\\x08\\x0bY\\x8dS\\xca\\x08k\\x9c\\\\\\xf4\\x18\\t\\xc2\\xeaA\\x9d>\\x17\\x13@X\\x8b\\xd1\\xb9\\xb8\\x10a\\xb9Hc\\x9cI \\xac8\\xb9\\xde4S\\x84\\x15;\\xff\\xe6f\\x8f\\xb0\\xcc\\xa5Lt\\xc0\\x08K\\x14\\'\\xc1\\xb4\\t ,m\\xc2c\\xc7GXc\\xe7\\x87\\xd1\\xad\\x11@X\\xb1K\\x02a\\xc5\\xce\\xbf\\xb9\\xd9#,s)\\x13\\x1d0\\xc2\\x12\\xc5I0M\\x02\\xfb\\xfb\\xfb\\xd3\\xc9\\xc9\\x89h\\x17<\\xb2\"\\x8aS=\\x18\\xc2RGL\\x07R\\x04\\xf8z\\x19)\\x92v\\xe3 ,\\xbb\\xb9\\x0b7r\\xe9\\xed`\\x02\\xc8\\n\\xcbV\\x19!,[\\xf9\\n=Z\\x84\\x15:\\xfdg\\x93GX\\xd4\\x80\\x19\\x02\\xd2\\xc2\\xe2g\\xbe\\xcc\\xa4\\xfe\\xbf\\x81\",{9\\x0b;bia\\xa53\\xb1\\xe3\\xe3\\xe3\\xb0<-N\\x1caY\\xccZ\\xd01K\\x0b\\x8b\\xf3+{\\x85\\x84\\xb0\\xec\\xe5,\\xe4\\x88y\\x870d\\xda\\xdf\\x9a4\\xc2\\xa2\\x0eL\\x10\\x90^]\\xf1\\x0e\\xa1\\x89\\xb4#,\\x9bi\\x8a=j\\x8d\\xd5\\x15\\xc2\\xb2YS\\xac\\xb0l\\xe6-\\xd4\\xa85VW\\x08\\xcbf\\t!,\\x9by\\x0b3j\\xad\\xd5\\x15\\xc2\\xb2YB\\x08\\xcbf\\xde\\xc2\\x8cZku\\xc53X6K\\x08a\\xd9\\xcc[\\x88Q_\\xb9re:::R\\x99+\\x8f4\\xa8`U\\x0f\\x8a\\xb0\\xd4\\x11\\xd3\\xc1R\\x02Z\\xdbAVWK3\\xd2\\xff:\\x84\\xd5?\\x07\\x8c`\\x0b\\x01\\xad\\xed \\xab+\\xbb%\\x87\\xb0\\xec\\xe6\\xce\\xf5\\xc8\\xb5\\xb6\\x83\\xac\\xael\\x97\\r\\xc2\\xb2\\x9d?\\xb7\\xa3\\xd7\\xda\\x0e\\xb2\\xba\\xb2]2\\x08\\xcbv\\xfe\\xdc\\x8e^c;\\xc8\\xea\\xca~\\xb9 ,\\xfb9t7\\x03\\xad\\xd5\\xd5\\xc1\\xc1\\xc1txx\\xe8\\x8eW\\xa4\\t!\\xacH\\xd962W\\x8d\\xd5U\\x9a:\\xdbA#\\x05\\xb0c\\x98\\x08\\xcb~\\x0e]\\xcd@KVl\\x07}\\x94\\t\\xc2\\xf2\\x91G\\x17\\xb3\\xd0\\x92U\\x82\\xc3v\\xd0E\\x89\\xf0\\x15\\xc9>\\xd2h\\x7f\\x16\\x9a\\xb2b;h\\xbf>\\xceg\\xc0\\n\\xcbO.\\xcd\\xceD[Vl\\x07\\xcd\\x96\\xc6[\\x03GX~rir&\\xda\\xb2bue\\xb2,\\xb6\\x0e\\x1aa\\xf9\\xca\\xa7\\xa9\\xd9h=\\xbe\\xb0\\n\\x81\\xd5\\x95\\xa9\\x92\\x98\\x1d,\\xc2\\x9aED\\x03\\r\\x02\\x1a?;\\xbfi\\x9c<\\xca\\xa0\\x91\\xbd~1\\x11V?\\xf6a{\\xd6\\xfa\\x9c\\xe0:PVW\\xfeJ\\x0ca\\xf9\\xcb\\xe9\\xd03j\\xb1\\r<\\x07\\xc0\\xeaj\\xe8RX48\\x84\\xb5\\x08\\x1b\\x17\\x95\\x12h\\xb5\\xaa:\\x1f\\x17\\xab\\xab\\xd2\\x0c\\xd9h\\x8f\\xb0l\\xe4\\xc9\\xfc([\\xbc\\x1b\\xb8\\n\\x89\\xd5\\x95\\xf9\\x92\\xd98\\x01\\x84\\xe53\\xafC\\xcd\\xaa\\xe560M\\x9c\\xd5\\xd5P\\xe9\\x17\\x1d\\x0c\\xc2\\x12\\xc5I\\xb0u\\x02\\xad\\xde\\rdu\\x15\\xa3\\xf6\\x10V\\x8c<w\\x99e\\xebs\\xab4I\\xb6\\x82]R\\xdd\\xacS\\x84\\xd5\\x0cu\\xac\\x8eZo\\x03\\x91U\\x8c\\xfaBX1\\xf2\\xdcl\\x96=VU\\xbbdu\\xf1\\xe2\\xc5\\xe9\\xe4\\xe4\\xe4l\\xfe=W_=\\xfbn\\x96\\xfc\\x06\\x1d!\\xac\\x06\\x90\\xa3t\\xd1cU\\xb5*\\xa2^\\xfd\\xe7\\xe6\\x17i\\xe5\\x92\\xda\\xde\\x0ea\\xd53\\x0c\\x1f\\xa1\\xd7\\xaa\\xca\"x\\xa4U\\x975\\x84U\\xc7/\\xfc\\xd5=\\xde\\x05\\xb4\\x0e\\x1di-\\xcf \\xc2Z\\xce.\\xfc\\x95\\xa3o\\xc1FN\\x10\\xd2Z\\x96\\x1d\\x84\\xb5\\x8c[\\xf8\\xabZ?\\xb9\\xee\\x118\\xd2*\\xcf*\\xc2*g\\x16\\xfe\\nd%W\\x02H\\xab\\x8c%\\xc2*\\xe3\\x15\\xba5\\x87\\xeb:\\xe9GZ\\xf9\\\\\\x11V>\\xab\\xd0-9\\xaf\\xd2M?\\xd2\\xca\\xe3\\x8b\\xb0\\xf28\\x85m\\xc5\\xaa\\xaa]\\xea\\x91\\xd6<k\\x845\\xcf(l\\x0b\\x1eYh\\x9bz\\xbeeb\\x9e7\\xc2\\x9ag\\x14\\xae\\x05\\xdb\\xbf~)\\xe7\\x07_w\\xb3GX\\xfdjs\\xb8\\x9e\\x11\\xd5\\x18)ak\\xb8=\\x0f\\x08k\\x8c\\x1a\\xed:\\nD\\xd5\\x15\\xff\\xc6\\xce\\x91\\xd6\\xe6\\x9c \\xac\\xf1j\\xb5\\xc9\\x88\\xd2\\xb7\\x18\\x1c\\x1f\\x1f7\\xe9\\x8bN\\x96\\x11@ZosCX\\xcbj\\xc9\\xecU\\xac\\xa6l\\xa5\\x0ei\\xbd\\x99/\\x84e\\xab~\\x17\\x8d\\x96\\xd5\\xd4\"l\\xc3\\\\\\x84\\xb4\\xfeO\\x05\\xc2\\x1a\\xa6,\\xe5\\x07\\xc2jJ\\x9ei\\xaf\\x88H\\xeb\\x15y\\x84\\xd5\\xab\\x02\\x15\\xfbET\\x8ap;\\x86FZ\\x08\\xabc\\xf9\\xc9w\\xcdS\\xe9\\xf2LG\\x8a\\x88\\xb0\\x10\\xd6H\\xf5\\xb8h,\\xac\\xa6\\x16a;\\xfb\\xed\\xc2\\xf4\\x97\\xf8\\xbd|\\xf9rY\\x90\\xd7W\\xb5\\xfa\\xf6\\n\\x84\\x85\\xb0\\xaa\\n\\xb5\\xd7\\xc5\\x1c\\xa2\\xe7\\x91O\"\\x91\\x10RNo-\\xa4\\x85\\xb0\\x10VN-\\x0e\\xd1&}\\xae/\\x15,E\\xbb=\\x1d\\xbd?\\x8b\\xa7--r\\x8f\\xb0\\x86\\x90\\xd1\\xa6A \\xa8\\xf9\\xd4$A\\\\\\xbe|y:<<\\x9co\\xdc\\xa0\\x85\\xf6\\x19\"\\xc2BX\\r\\xca8\\xaf\\x0b\\x04\\x95\\xc7i4I\\xad\\x8fZ\\xf3L\\xb1\\xf7\\n2/C\\xba\\xadx\\xacA\\x97\\xef\\xd6\\xe8\\x08*\\x1f\\xfc\\xe8\\x92Z\\x9f\\x89\\xe6\\xd60\\xfa*\\x0ba\\xe5\\xdf7U-\\x11T\\x19>k\\x92j%-\\x84\\x15\\x9d@\\xd9}\\x94\\xdd\\x1aAe\\xa3\\xfa\\xaf\\xa1uI\\xb5\\x90V\\xf4\\xdb\\x95\\x15V\\xf9}\\xb5\\xf1\\n\\x04\\xb5\\x1c\\xa4\\xd7\\xb3\\x19\\x8d\\xad!\\xc2\\x8aN`\\xe1}\\x86\\xa0\\x16\\x82[\\xb9\\xcc\\xab\\xa8\\xce\\xa7\\xa8q\\x00\\x1f\\xfdve\\x85\\x95y\\xdf!\\xa8LP;\\x9a%A\\xa5\\x7f\\x91\\xbe\\x87Kz\\x95\\x85\\xb0\\xa2\\x13\\xd8r\\x83!\\xa8zA\\xa5\\x08\\xde\\xce\\xa5J\\xa9H\\x0b+\\xad\\xda\"\\t\\xff\\xads\\xc1S\\x84u\\xc6\\x04A\\x95\\xde\\x8a\\xdb\\xdbG\\x97\\xd4*\\x19iay\\xdfF\\xcfUa\\xd8-!\\x82\\x9a+\\x8d\\xfc\\xffo\\xf9\\x99\\xbd\\xfcQ\\x8d\\xd1RZXiV\\x91\\xd7\\x18a\\x84\\x85\\xa0\\xe4n\\xe0\\xe8\\xaf\\xf2%$5\\x84\\x95j\\xb9\\xf6\\x1b&J\\xe60R[\\xb7\\xc2BPre\\xc6\\x16o9K\\x8dw\\n#\\xaf\\xb2\\xdc\\x08\\x0bA-\\xbf\\xa96]\\x89\\xa4dxj\\xfdzv\\xd4m\\xa1Ya!(\\x99\\x1bj\\xfd\\x80x\\xa4o?\\x90\\x9fa\\x9f\\x88\\x1a\\xdb\\xc2\\xa8\\xdbr3\\xc2BP\\xba7[\\xd4Wl]\\xaa\\xaf\\xa2k\\x08+\\xea\\xb6pXa!\\xa8\\x16\\xb7\\xd2\\xff} ,=\\xde\\x9cc\\xc9\\xb1\\x1dFX\\x08J.\\xa9\\xeb\\x91\"\\xbf\\xab\\xa4G\\xb5,\\xb2\\xc6*+\\xe2\\x8bL7a!\\xa8\\xb2\\x82/m\\x1d\\xf5\\x8c\\xa3\\x94S\\xab\\xf6\\x08K\\x86t3a!(\\x99\\x84\\xed\\x8a\\x82\\xa4\\xf4\\x19/\\xedA\\xe3\\x87CXa-\\xcd\\xc6\\x86\\xeb\\x10\\x94 \\xcc-\\xa1x\\xc2\\\\\\x9f\\xb1d\\x0f\\xd2\\xab,\\x84%\\x99\\x1dbA\\x00\\x02o\\x10@X\\xf5\\x05\\xd1lKX?T\"@\\xc06\\x01\\x84U\\x9f?\\x84U\\xcf\\x90\\x08\\x10\\xc8\"\\x80\\xb0\\xb20\\xedl\\x84\\xb0\\xea\\x19\\x12\\x01\\x02Y\\x04\\x10V\\x16&\\x84U\\x8f\\x89\\x08\\x10\\xa8\\'\\x80\\xb0\\x04\\x18\\xf2\\x05~\\xf5\\x10\\x89\\x00\\x81\\x1c\\x02\\x08+\\x87\\xd2\\xee6l\\t\\xeb\\x19\\x12\\x01\\x02Y\\x04\\x10V\\x16&\\xb6\\x84\\xf5\\x98\\x88\\x00\\x81z\\x02\\x08K\\x80![\\xc2z\\x88D\\x80@\\x0e\\x01\\x84\\x95C\\x89-a=%\"@@\\x80\\x00\\xc2\\xaa\\x87\\xc8\\x19V=C\"@ \\x8b\\x00\\xc2\\xca\\xc2\\xc4\\x19V=&\"@\\xa0\\x9e\\x00\\xc2\\x12`\\xc8\\x19V=D\"@ \\x87\\x00\\xc2\\xca\\xa1\\xc4\\x19V=%\"@@\\x80\\x00\\xc2\\xaa\\x87\\xc8\\x19V=C\"@ \\x8b\\x00\\xc2\\xca\\xc2\\xc4\\x19V=&\"@\\xa0\\x9e\\x00\\xc2\\x12`\\xc8\\x19V=D\"@ \\x87\\x00\\xc2\\xca\\xa1\\xc4\\x19V=%\"@@\\x80\\x00\\xc2\\xaa\\x87\\xc8\\x19V=C\"@ \\x8b\\x00\\xc2\\xca\\xc2\\xc4\\x19V=&\"@\\xa0\\x9e\\x00\\xc2\\x12`\\xc8\\x19V=D\"@ \\x87\\x00\\xc2\\xca\\xa1\\xc4\\x19V=%\"@@\\x80\\x00\\xc2\\xaa\\x87\\xc8\\x19V=C\"@ \\x8b\\x00\\xc2\\xca\\xc2\\xc4\\x19V=&\"@\\xa0\\x9e\\x00\\xc2\\x12`\\xc8\\x19V=D\"@ \\x87\\x00\\xc2\\xca\\xa1\\xc4\\x19V=%\"@@\\x80\\x00\\xc2\\xaa\\x87\\xc8\\x19V=C\"@ \\x8b\\x00\\xc2\\xca\\xc2\\xc4\\x19V=&\"@\\xa0\\x9e\\x00\\xc2\\x12`\\xc8\\x19V=D\"@ \\x87\\x00\\xc2\\xca\\xa1\\xc4\\x19V=%\"@@\\x80\\x00\\xc2\\xaa\\x87\\xc8\\x19V=C\"@`\\x96\\xc0\\x85\\x0b\\x17\\xa6\\xd3\\xd3\\xd3\\xd9v%\\r\\xa4\\xe3\\x95\\xf4\\xdd\\xab-\\xc2\\xeaE\\x9e~C\\x11@X2\\xe9FX2\\x1c\\x89\\x02\\x81\\xdd\\xefn\\xed\\xed\\x89\\x13b\\x85%\\x8e\\x94\\x80\\x10\\x80@\" }~\\x95b\",j\\x0b\\x02\\x10\\x10\\'\\xa0\\xb1\\x1dL\\x02<99\\x11\\x1f\\xeb\\xe8\\x01\\xd9\\x12\\x8e\\x9e!\\xc6g\\x9a\\xc0\\xb5k\\xd7\\xa6\\xbf\\xff\\xfe[|\\x0e\\x08K\\x1c)\\x01!\\x00\\x01\\x8d\\xad`\\xd4\\xed\\xe0\\xd9\\xd6\\x9a\\x07G\\xb9\\xa9 \\xa0C@c+x>\\xd2\\x88\\xe7W\\x08K\\xa7N\\x89\\n\\x813\\x02Z\\xab+VX\\x14\\x18\\x04  J@su\\x15\\xf5\\xfc\\x8a\\x15\\x96h\\x89\\x12\\x0c\\x02\\xff\\x13`u\\xa5S\\r\\x9ca\\xe9p%j`\\x02\\xac\\xae\\xf4\\x92\\x8f\\xb0\\xf4\\xd8\\x129 \\x81\\xf7\\xdf\\x7f\\x7fz\\xf6\\xec\\x99\\xda\\xcc\\xa3\\x1e\\xb6\\x9f\\x03EXj\\xa5E\\xe0\\x88\\x044\\xb7\\x82\\x91\\xcf\\xae\\x10V\\xc4\\xbb\\x899\\xab\\x12\\xd0\\xdc\\nF~gp5i\\xac\\xb0TK\\x98\\xe0Q\\x08\\xdc\\xb8qcz\\xfa\\xf4\\xa9\\xdatY]\\xbdB\\x8b\\xb0\\xd4J\\x8c\\xc0\\x91\\x08\\xb0\\xbaj\\x93m\\x84\\xd5\\x863\\xbd8\\'\\xa0yvu\\xf5\\xea\\xd5\\xe9\\xaf\\xbf\\xferN0oz\\x08+\\x8f\\x13\\xad \\xb0\\x95\\xc0\\xc5\\x8b\\x17\\xa7\\xe3\\xe3c\\x15Bl\\x05\\xdf\\xc4\\x8a\\xb0T\\xca\\x8c\\xa0\\x91\\x08h\\xae\\xae\\xa2?\\xc6\\xb0^G\\x08+\\xd2\\x9d\\xc5\\\\U\\x08h\\t\\x8b\\xd5\\xd5\\xdb\\xe9BX*%L\\xd0(\\x044\\x0f\\xdbY]!\\xac(\\xf7\\x11\\xf3lD\\x80\\xd5U#\\xd0\\xaf\\xbba\\x85\\xd5\\x967\\xbd9\"\\xa0\\xf9\\xec\\x15\\xab\\xab\\xcd\\x85\\x82\\xb0\\x1c\\xdd@L\\xa5-\\x01\\xad\\xed\\xe0\\xf5\\xeb\\xd7U\\x1fBmKI\\xb67\\x84%\\xcb\\x93h\\x81\\x08hm\\x07Y]m/\"\\x84\\x15\\xe8\\x06c\\xaar\\x04\\xb4VW\\xbc3\\xb8;G\\x08K\\xae\\x86\\x89\\x14\\x84\\xc0\\xfe\\xfe\\xbe\\xdaOl\\xb1\\xbaBXAn#\\xa6\\xd9\\x82\\xc0\\x87\\x1f~8\\xfd\\xf9\\xe7\\x9fj]!,\\x84\\xa5V\\\\\\x04\\x8eG@\\xeb\\xdc*\\x91L+\\xb7\\x97/_\\xc6\\x83Z0c\\xb6\\x84\\x05\\xb0h\\x1a\\x9b\\x80\\xd6\\xb9\\xd59UVW\\xf3\\xf5\\x85\\xb0\\xe6\\x19\\xd1\\x02\\x02g\\x044WW\\x1c\\xb6\\xe7\\x15\\x19\\xc2\\xca\\xe3D\\xab\\xe0\\x044e\\x95\\xd0\\xb2\\xba\\xca+0\\x84\\x95\\xc7\\x89V\\x81\\th\\xcb\\x8a\\xd5U~q!\\xac|V\\xb4\\x0cH@[V\\xac\\xae\\xca\\x8a\\na\\x95\\xf1\\xa2u \\x02-d\\xc5\\xea\\xaa\\xac\\xa0\\x10V\\x19/Z\\x07!\\xd0BV\\xac\\xae\\xca\\x8b\\ta\\x953\\xe3\\n\\xe7\\x04Z\\xc9\\x8a\\xd5Uy!!\\xacrf\\\\\\xe1\\x98\\x80\\xf6\\xb3V\\xab\\xe8xg\\xb0\\xbc\\x90\\x10V93\\xaepJ\\xe0\\x93O>\\x99\\x9e<y\\xd2dv\\x1f|\\xf0\\xc1\\xf4\\xc7\\x1f\\x7f4\\xe9\\xcbS\\'\\x08\\xcbS6\\x99K\\x15\\x81V[\\xc1\\xb4\\x8a\\xd3\\xfa\\x95\\x9d*\\x00\\x06.FX\\x06\\x92\\xc4\\x10\\xf5\\t\\xb4\\x92\\x15\\xe7Vu\\xb9DXu\\xfc\\xb8\\xda8\\x81\\x96gV\\xbc+X_,\\x08\\xab\\x9e!\\x11\\x0c\\x12h-\\xaa\\x84\\x88\\xd5U}\\xa1 \\xacz\\x86D0F\\xa0\\xd5\\xf6o\\x1d\\x0b\\xef\\n\\xd6\\x17\\n\\xc2\\xaagH\\x04C\\x04\\x90\\x95\\xa1dm\\x18*\\xc2\\xb2\\x9d?F_@\\x00Y\\x15\\xc0\\x1a\\xb4)\\xc2\\x1a41\\x0cK\\x8e\\xc0g\\x9f}6=z\\xf4H.`A$\\xb6\\x81\\x05\\xb02\\x9a\"\\xac\\x0cH4\\xb1K@\\xf3\\x07#\\xe6\\xa8 \\xab9B\\xe5\\xff\\x8f\\xb0\\xca\\x99q\\x85\\x11\\x02=\\xde\\t<G\\x83\\xact\\x8a\\x04a\\xe9p%jG\\x02=E\\x95\\xa6\\x8d\\xac\\xf4\\x92\\x8f\\xb0\\xf4\\xd8\\x12\\xb9\\x03\\x81^\\x07\\xeb\\xe7S\\xbdy\\xf3\\xe6\\xf4\\xf8\\xf1\\xe3\\x0e3\\x8f\\xd1%\\xc2\\x8a\\x91\\xe7\\x10\\xb3\\xec-+\\x1e\\x0c\\xd5/3\\x84\\xa5\\xcf\\x98\\x1e\\x94\\x08|\\xf1\\xc5\\x17\\xd3\\xef\\xbf\\xff>\\xcc\\x16\\x8c\\xad\\xa0R\\xa2W\\xc2\",}\\xc6\\xf4 L\\xa0\\xf7\\x19\\xd5\\xa6\\xe9 +\\xe1$o\\t\\x87\\xb0\\xdap\\xa6\\x97J\\x02\\xe9\\xf1\\x84$\\x85\\x11\\xc50\\xe2\\x98*q\\x0f{9\\xc2\\x1a65\\xb1\\x07v\\xfb\\xf6\\xed\\xe9\\xd7_\\x7f\\x1dRP\\xab\\x99AVm\\xeb\\x14a\\xb5\\xe5Mo[\\x08\\xbc\\xf7\\xde{\\xd3\\xf3\\xe7\\xcf\\x87\\x17\\x14\\xb2\\xea[\\xc2\\x08\\xab/\\xffp\\xbd_\\xbat\\xe9\\xec\\xdb6-\\xafLx7\\xb0_\\xd9\"\\xac~\\xecC\\xf4<\\xe2\\x01\\xf9R\\xf0\\x88j)9\\xb9\\xeb\\x10\\x96\\x1cK\"\\xbd&ppp0\\xfd\\xf3\\xcf?\\xa6WQ\\xeb\\xc9\\xb4\\xbc\"\\xf4T\\x98\\x08\\xcbS6\\x85\\xe7\\xd2\\xfbAL\\xe1\\xe9,\\x0e\\x87\\xac\\x16\\xa3\\x13\\xbf\\x10a\\x89#\\xb5\\x19\\xb0\\xe7\\xb7\\x1a\\x8cL\\x0cY\\x8d\\x95\\x1d\\x845V>\\xd4G\\xc3\\xaa)\\x0f1\\xe7Uy\\x9cZ\\xb7BX\\xad\\x89W\\xf4\\xf7\\xcd7\\xdfL?\\xfe\\xf8cE\\x04.\\xcd!\\xc0\\xef\\x06\\xe6P\\xea\\xd3\\x06a\\xf5\\xe1^\\xdc+\\xb2*F\\xb6\\xe8\\x82O?\\xfdtz\\xf8\\xf0\\xe1\\xa2k\\xb9H\\x9f\\x00\\xc2\\xd2g\\\\\\xdd\\x03\\xb2\\xaaF8\\x1b\\x80-\\xe0,\\xa2!\\x1a \\xac!\\xd2\\xb0}\\x10\\xc8J?A\\x1c\\xac\\xeb3\\x96\\xea\\x01aI\\x91T\\x8a\\x93\\xce\\xac\\x92\\xb4\\xf8\\xd3!\\x80\\xact\\xb8jEEXZd\\x05\\xe3\"-A\\x98+\\xa1\\x90\\x95\\x0eW\\xcd\\xa8\\x08K\\x93\\xae`l\\xa4%\\x08\\x93\\xef]\\x97\\x85\\xd90\\x1a\\xc2j\\x08\\xbb\\xb6+\\xa4UG0\\x1d\\xac\\xa7\\x7f\\xe9\\xc3\\xd7\\xfc\\xd9$\\x80\\xb0\\x8c\\xe5\\ri\\xe5\\'\\x0cA\\xe5\\xb3\\xb2\\xd2\\x12aY\\xc9\\xd4\\xca8\\x91\\xd6\\xf6\\xa4%I}\\xfe\\xf9\\xe7\\xd3o\\xbf\\xfdf0\\xb3\\x0cy\\x8e\\x00\\xc2\\x9a#4\\xe8\\xff#\\xad7\\x13\\xc3sT\\x83\\x16\\xaa\\xf0\\xb0\\x10\\x960\\xd0\\x96\\xe1\"K\\x8b\\xed^\\xcbJ\\x1b\\xa7/\\x845N.\\x16\\x8d$\\xd2\\x87\\x99\\xd3\\\\o\\xdd\\xba5=x\\xf0`\\x11+.\\xb2O\\x00a\\x19\\xcf\\xa1ga\\xa5\\xb9\\xdd\\xb9sg\\xfa\\xe5\\x97_\\x8cg\\x89\\xe1K\\x11@XR$;\\xc5\\xf1 \\xac4\\x87\\xf4}\\\\\\xe9[J\\xf9\\x83\\xc0.\\x02\\x08\\xcbx}X\\x14\\x16\\x07\\xe4\\xc6\\x8b\\xae\\xe3\\xf0\\x11VG\\xf8\\x12][\\x10V\\x1ac\\xfa\\xb5\\x9c\\xa3\\xa3#\\x89)\\x13#0\\x01\\x84e<\\xf9\\xbd\\x85\\xc5\\xe7\\xf1\\x8c\\x17\\x90\\xb1\\xe1#,c\\t[\\x1f\\xae\\xa6\\xb0\\xf8\\xe6M\\xe3\\xc5\\xe1p\\xf8\\x08\\xcbxR5\\x84\\xc5\\xaa\\xc9xQ8\\x1e>\\xc2r\\x9c\\\\\\xa6\\x06\\x01o\\x04\\x10\\x96\\xb7\\x8c2\\x1f\\x088&\\x80\\xb0\\x1c\\'\\x97\\xa9A\\xc0\\x1b\\x01\\x84\\xe5-\\xa3\\xcc\\x07\\x02\\x8e\\t ,\\xc7\\xc9ej\\x10\\xf0F\\x00ay\\xcb(\\xf3\\x81\\x80c\\x02\\x08\\xcbqr\\x99\\x1a\\x04\\xbc\\x11@X\\xde2\\xca| \\xe0\\x98\\x00\\xc2r\\x9c\\\\\\xa6\\x06\\x01o\\x04\\x10\\x96\\xb7\\x8c2\\x1f\\x088&\\x80\\xb0\\x1c\\'\\x97\\xa9A\\xc0\\x1b\\x01\\x84\\xe5-\\xa3\\xcc\\x07\\x02\\x8e\\t ,\\xc7\\xc9ej\\x10\\xf0F\\x00ay\\xcb(\\xf3\\x81\\x80c\\x02\\x08\\xcbqr\\x99\\x1a\\x04\\xbc\\x11@X\\xde2\\xca| \\xe0\\x98\\x00\\xc2r\\x9c\\\\\\xa6\\x06\\x01o\\x04\\x10\\x96\\xb7\\x8c2\\x1f\\x088&\\x80\\xb0\\x1c\\'\\x97\\xa9A\\xc0\\x1b\\x01\\x84\\xe5-\\xa3\\xcc\\x07\\x02\\x8e\\t ,\\xc7\\xc9ej\\x10\\xf0F\\x00ay\\xcb(\\xf3\\x81\\x80c\\x02\\x08\\xcbqr\\x99\\x1a\\x04\\xbc\\x11@X\\xde2\\xca| \\xe0\\x98\\x00\\xc2r\\x9c\\\\\\xa6\\x06\\x01o\\x04\\xfe\\x05\\xc7\\x02V\\x13V\\x1f\\xc0\\x0f\\x00\\x00\\x00\\x00IEND\\xaeB`\\x82'\n"
          ]
        }
      ]
    },
    {
      "cell_type": "code",
      "source": [
        "# PIL é uma biblioteca para lidar com imagens\n",
        "from PIL import Image, ImageOps\n",
        "import io"
      ],
      "metadata": {
        "id": "V6xL5RDGLIAq"
      },
      "execution_count": null,
      "outputs": []
    },
    {
      "cell_type": "code",
      "source": [
        "image = ImageOps.grayscale(Image.open(io.BytesIO(img)))\n",
        "\n",
        "img_array = np.array(ImageOps.invert(image.resize(img_shape)), dtype=x_train.dtype)\n",
        "\n",
        "np.set_printoptions(linewidth=160)\n",
        "\n",
        "print('Este é seu número de verdade (pro computador):')\n",
        "print(img_array.shape, img_array.dtype)\n",
        "print(img_array)\n",
        "\n",
        "plt.imshow(img_array, cmap='gray_r', interpolation='none')"
      ],
      "metadata": {
        "id": "Tm97XfLjKHAg",
        "colab": {
          "base_uri": "https://localhost:8080/",
          "height": 803
        },
        "outputId": "58d04803-647d-4c04-8898-048c84be4ddc"
      },
      "execution_count": null,
      "outputs": [
        {
          "output_type": "stream",
          "name": "stdout",
          "text": [
            "Este é seu número de verdade (pro computador):\n",
            "(28, 28) uint8\n",
            "[[  0   0   0   0   0   0   0   0   0   0   0   0   0   0   0   0   0   0   0   0   0   0   0   0   0   0   0   0]\n",
            " [  0   0   0   0   0   0   0   0   0   0   0   0   0   0   0   0   0   0   0   0   0   0   0   0   0   0   0   0]\n",
            " [  0   0   0   0   0   0   0   0  25  81 109 141 146 146 146 129  22   0   0   0   0   0   0   0   0   0   0   0]\n",
            " [  0   0   0   0   0   0   6 153 238 255 255 255 255 255 255 255 209  31   0   0   0   0   0   0   0   0   0   0]\n",
            " [  0   0   0   0   0  15 169 255 252 183 126  98  76  76  83 193 255 166   0   0   0   0   0   0   0   0   0   0]\n",
            " [  0   0   0   0   0 151 255 229  68   0   0   0   0   0   0  39 252 212   3   0   0   0   0   0   0   0   0   0]\n",
            " [  0   0   0   0   0  35 180  75   0   0   0   0   0   0   0  15 235 226  10   0   0   0   0   0   0   0   0   0]\n",
            " [  0   0   0   0   0   0   9   0   0   0   0   0   0   0   0  16 237 226  10   0   0   0   0   0   0   0   0   0]\n",
            " [  0   0   0   0   0   0   0   0   0   0   0   0   0   0   0  62 253 203   2   0   0   0   0   0   0   0   0   0]\n",
            " [  0   0   0   0   0   0   0   0   0   0   0   0   0   0   3 175 255 117   0   0   0   0   0   0   0   0   0   0]\n",
            " [  0   0   0   0   0   0   0   0   0   0   0   0   0   7 155 255 229  54  33  33  10   0   0   0   0   0   0   0]\n",
            " [  0   0   0   0   0   0   0   0   0   0   0   0  38 186 255 255 245 245 252 250 195  22   0   0   0   0   0   0]\n",
            " [  0   0   0   0   0   0   0   0   0   7  56 154 238 255 255 255 249 220 199 223 255 178   5   0   0   0   0   0]\n",
            " [  0   0   0   0   0  10  47 101 163 217 255 255 255 245 200 117  43   8   0  30 235 246  25   0   0   0   0   0]\n",
            " [  0   1  27  81 143 197 232 247 248 244 229 177 104  37   2   0   0   0   0   0 184 255  70   0   0   0   0   0]\n",
            " [  0   1  18  33  34  30  26  25  24  24  17   0   0   0   0   0   0   0   0   0 142 255  81   0   0   0   0   0]\n",
            " [  0   0   0   0   0   0   0   0   0   0   0   0   0   0   0   0   0   0   0   0 142 255  80   0   0   0   0   0]\n",
            " [  0   0   0   0   0   0   0   0   0   0   0   0   0   0   0   0   0   0   0   0 145 255  82   0   0   0   0   0]\n",
            " [  0   0   0   0   0   0   0   0   0   0   0   0   0   0   0   0   0   0   0  14 213 255  61   0   0   0   0   0]\n",
            " [  0   0   0   0   0   0   0   0   0   0   0   0   0   0   0   0   0   0   0 109 255 192   6   0   0   0   0   0]\n",
            " [  0   0   0   0   0   0   0   0   0   0   0   0   0   0   0   0   0   0  18 218 255  72   0   0   0   0   0   0]\n",
            " [  0   0   0   0   0   0   0   0   0   0   0   0   0   0   0   0   0  18 180 255 187   4   0   0   0   0   0   0]\n",
            " [  0   0   0   0   0   0   0   0   0   0   0   0   0   0   0   9  68 208 255 215  28   0   0   0   0   0   0   0]\n",
            " [  0   0   0   0   0   0   0   0   0  10  57  65 104 126 174 219 255 255 190  35   0   0   0   0   0   0   0   0]\n",
            " [  0   0   0   0   0   0   0   0   0  23 217 255 255 255 255 252 207 124   9   0   0   0   0   0   0   0   0   0]\n",
            " [  0   0   0   0   0   0   0   0   0   0  91 170 148 109  81  38   5   0   0   0   0   0   0   0   0   0   0   0]\n",
            " [  0   0   0   0   0   0   0   0   0   0   0   0   0   0   0   0   0   0   0   0   0   0   0   0   0   0   0   0]\n",
            " [  0   0   0   0   0   0   0   0   0   0   0   0   0   0   0   0   0   0   0   0   0   0   0   0   0   0   0   0]]\n"
          ]
        },
        {
          "output_type": "execute_result",
          "data": {
            "text/plain": [
              "<matplotlib.image.AxesImage at 0x7f73b4a22430>"
            ]
          },
          "metadata": {},
          "execution_count": 34
        },
        {
          "output_type": "display_data",
          "data": {
            "text/plain": [
              "<Figure size 432x288 with 1 Axes>"
            ],
            "image/png": "[encoded data removed]"
          },
          "metadata": {
            "needs_background": "light"
          }
        }
      ]
    },
    {
      "cell_type": "code",
      "source": [
        "result = model.predict_step(img_array.reshape((-1,) + img_shape)).numpy().ravel()"
      ],
      "metadata": {
        "id": "NVskMNxvL4Kd"
      },
      "execution_count": null,
      "outputs": []
    },
    {
      "cell_type": "code",
      "source": [
        "print('Probabilidades:')\n",
        "for label in labels:\n",
        "  print('%d -> %5.2f %%' % (label, 100 * result[label]))\n",
        "\n",
        "print('\\nO modelo diz que você escreveu:', np.argmax(result))"
      ],
      "metadata": {
        "id": "C6vzkios3EzU",
        "colab": {
          "base_uri": "https://localhost:8080/"
        },
        "outputId": "6d1ed1ab-fa6a-4f9c-97a1-5c33624f399b"
      },
      "execution_count": null,
      "outputs": [
        {
          "output_type": "stream",
          "name": "stdout",
          "text": [
            "Probabilidades:\n",
            "0 ->  0.00 %\n",
            "1 ->  0.00 %\n",
            "2 ->  0.00 %\n",
            "3 -> 100.00 %\n",
            "4 ->  0.00 %\n",
            "5 ->  0.00 %\n",
            "6 ->  0.00 %\n",
            "7 ->  0.00 %\n",
            "8 ->  0.00 %\n",
            "9 ->  0.00 %\n",
            "\n",
            "O modelo diz que você escreveu: 3\n"
          ]
        }
      ]
    },
    {
      "cell_type": "code",
      "source": [],
      "metadata": {
        "id": "jWikBsEP4HAL"
      },
      "execution_count": null,
      "outputs": []
    }
  ]
}