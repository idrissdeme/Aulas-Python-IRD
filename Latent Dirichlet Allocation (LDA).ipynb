{
  "cells": [
    {
      "cell_type": "markdown",
      "id": "4e68dd8f-aab6-4969-be1c-85e3958eb5ca",
      "metadata": {
        "id": "4e68dd8f-aab6-4969-be1c-85e3958eb5ca"
      },
      "source": [
        "# Latent Dirichlet Allocation (LDA)"
      ]
    },
    {
      "cell_type": "markdown",
      "id": "02b7c30d-baa6-4186-a98a-f090f82e38a2",
      "metadata": {
        "id": "02b7c30d-baa6-4186-a98a-f090f82e38a2"
      },
      "source": [
        "![The Wonderful Wizard of Oz](https://www.gutenberg.org/files/55/55-h/images/cover.jpg)\n",
        "\n",
        "> The Wonderful Wizard of Oz {cite:p}`Baum` via https://www.gutenberg.org/ebooks/55"
      ]
    },
    {
      "cell_type": "markdown",
      "id": "59edb20a-f69d-4bce-8c40-035f1965df70",
      "metadata": {
        "id": "59edb20a-f69d-4bce-8c40-035f1965df70"
      },
      "source": [
        "To start our discussion, we should introduce what Topic Modeling is and how it can be applied."
      ]
    },
    {
      "cell_type": "markdown",
      "id": "4172a2e2-8392-4287-805a-388c71209bd8",
      "metadata": {
        "id": "4172a2e2-8392-4287-805a-388c71209bd8"
      },
      "source": [
        ":::{note}\n",
        "\"Topic modeling is a princpled approach for discovering topics from a large corpus of text documents {cite:p}`liu2020sentiment` (pg.159).\"\n",
        ":::\n",
        "\n"
      ]
    },
    {
      "cell_type": "markdown",
      "id": "adf84bb5-fbd4-49a2-a75f-a626feb9bb38",
      "metadata": {
        "id": "adf84bb5-fbd4-49a2-a75f-a626feb9bb38"
      },
      "source": [
        "Already, we have few things to unpack. What are the topics? How are they defined? Do we define or does the computer? What is a large corpus? How many documents do we need?\n",
        "\n",
        "\n",
        "Let's start with a *large corpus of text documents*. Typically, we would have two documents 📄, five documents 📄, ten million documents 📄, can be thought of as our corpus. Yes, even 1 document 📄 can be used for topic modeling. So, defining, *large corpus of text documents*, can be subjective.\n",
        "\n",
        "As specified by Liu {cite:p}`liu2020sentiment`, we can start this conversation using one of the two basic types of topic modeling. This being *probabilistic Latent Dirichlet Allocation* or *Latent Dirichlet Allocation*. For our conversation, we will be using *Latent Dirichlet Allocation*.\n",
        "\n",
        "\n",
        "\n"
      ]
    },
    {
      "cell_type": "markdown",
      "id": "874d41a2-a582-4123-8601-066793c98966",
      "metadata": {
        "id": "874d41a2-a582-4123-8601-066793c98966"
      },
      "source": [
        "## Latent Dirichlet Allocation\n",
        "\n",
        "### Pronunciation\n",
        "\n",
        "#### Latent\n",
        "<audio controls>\n",
        "  <source src=\"https://github.com/dudaspm/LDA_Bias_Data/blob/main/audio/Latent.mp3?raw=true\"\n",
        "          type=\"audio/mp3\">\n",
        "Your browser does not support the audio element.\n",
        "</audio>\n",
        "\n",
        "#### Dirichlet\n",
        "<audio controls>\n",
        "  <source src=\"https://github.com/dudaspm/LDA_Bias_Data/blob/main/audio/Dirichlet.mp3?raw=true\"\n",
        "          type=\"audio/mp3\">\n",
        "Your browser does not support the audio element.\n",
        "</audio>\n",
        "\n",
        "#### Allocation\n",
        "<audio controls>\n",
        "  <source src=\"https://github.com/dudaspm/LDA_Bias_Data/blob/main/audio/Allocation.mp3?raw=true\"\n",
        "          type=\"audio/mp3\">\n",
        "Your browser does not support the audio element.\n",
        "</audio>\n",
        "\n",
        "Our pronunciation stems from a talk by David Blei who is a professor of Statistics and Computer Science at Columbia University during David's talk \"Probabilistic Topic Models and User Behavior {cite:p}`Blei_2017`.\" The citation provides a link to original YouTube video (which is a *great* resource), but specifically, helpful for the pronunciation.\n"
      ]
    },
    {
      "cell_type": "markdown",
      "id": "7e206b8d-bced-4d35-a346-8e1c45441936",
      "metadata": {
        "id": "7e206b8d-bced-4d35-a346-8e1c45441936"
      },
      "source": [
        "## What is Latent Dirichlet Allocation or LDA?\n",
        "\n",
        "LDA is an unsupervised learning model."
      ]
    },
    {
      "cell_type": "markdown",
      "id": "8fde1589-0694-4185-a22f-af82265f034b",
      "metadata": {
        "id": "8fde1589-0694-4185-a22f-af82265f034b"
      },
      "source": [
        ":::{note}\n",
        "\n",
        "Topic Modeling with Documents  📄           \n",
        "            \n",
        "* supervised - Our documents 📄 are pre-labeled with the given topic(s). We can then train 🏋️ and test 🧪 (and also, you can include validating). **Usually** this is split:\n",
        "    * training 🏋️ 80%\n",
        "    * testing 🧪 20%.\n",
        "            \n",
        "   \n",
        "* unsupervised - Data is not labeled. So, we have no idea what the topics are beforehand. That being said, we can (and will) define the *number of topics*.\n",
        "\n",
        ":::\n"
      ]
    },
    {
      "cell_type": "markdown",
      "id": "d6bab6c7-8078-483b-a84a-dec916201024",
      "metadata": {
        "id": "d6bab6c7-8078-483b-a84a-dec916201024"
      },
      "source": [
        "So, coming back to our original questions:\n",
        "* What are topics?\n",
        "    * The topics will X number of sets of terms (we define this X) which will (could) have a common theme.\n",
        "* How are they defined?\n",
        "    * This is what we will get to in this notebook.     \n",
        "* Do we define or does the computer?\n",
        "    * LDA is unsupervised, so we define the number of topics. The computer provides the topics themselves.\n",
        "* What is a large corpus? and How many documents do we need?\n",
        "    * A bit subjective here. There is a *great* discussion about this by Tang et al.  {cite:p}`tang2014understanding` regarding this. If you have a chance, read all the points, but to sum it up\n",
        "        * The number of documents does matter, but at some point, increasing the number does not warrant better results. Even sampling 1000 papers from 1000000 papers could result in the same, if not better, results than 1000000 documents.\n",
        "        * The size of the documents also plays a role, so documents should not be short. Larger documents can be sampled and again receive the same desired output.\n",
        "\n"
      ]
    },
    {
      "cell_type": "markdown",
      "id": "faf3ca1c-1dc5-4f33-acfc-9e26c3f2c73b",
      "metadata": {
        "id": "faf3ca1c-1dc5-4f33-acfc-9e26c3f2c73b"
      },
      "source": [
        "### A Picture == 1000 Words\n",
        "\n",
        "One of the best representations of what LDA is and how to utilize it, can be found in Blei's work *Probabilistic topic models* {cite:p}`blei2012probabilistic` Please note that images and figure text come directly from work. All credit should go to Blei {cite:p}`blei2012probabilistic`\n",
        "\n",
        "![The intuitions behind latent Dirichlet allocation](http://deliveryimages.acm.org/10.1145/2140000/2133826/figs/f1.jpg)\n",
        "\"Figure 1. The intuitions behind latent Dirichlet allocation. We assume that some number of \"topics,\" which are distributions over words, exist for the whole collection (far left). Each document is assumed to be generated as follows. First choose a distribution over the topics (the histogram at right); then, for each word, choose a topic assignment (the colored coins) and choose the word from the corresponding topic. The topics and topic assignments in this figure are illustrative—they are not fit from real data. {cite:p}`blei2012probabilistic` (Page 3)\"\n",
        "\n",
        "![Real inference with LDA](https://deliveryimages.acm.org/10.1145/2140000/2133826/figs/f2.jpg)\n",
        "\"Figure 2. Real inference with LDA. We fit a 100-topic LDA model to 17,000 articles from the journal Science. At left are the inferred topic proportions for the example article in Figure 1. At right are the top 15 most frequent words from the most frequent topics found in this article. {cite:p}`blei2012probabilistic` (Page 4)\""
      ]
    },
    {
      "cell_type": "markdown",
      "id": "c4dbe6f0-e011-4ca9-b564-de59f28159b0",
      "metadata": {
        "id": "c4dbe6f0-e011-4ca9-b564-de59f28159b0"
      },
      "source": [
        "## Let's Try an Example"
      ]
    },
    {
      "cell_type": "markdown",
      "id": "0e9a02d3-1995-4ab1-949b-c0d548a6dd2d",
      "metadata": {
        "id": "0e9a02d3-1995-4ab1-949b-c0d548a6dd2d"
      },
      "source": [
        "For our example, we will be using a subset of books from L. Frank Baum that are part of the public domain (again, thank you https://www.gutenberg.org).\n",
        "\n",
        "* The Wonderful Wizard of Oz\n",
        "    * https://www.gutenberg.org/files/55/55-h/55-h.htm\n",
        "* The Marvellous Land of Oz\n",
        "    * https://www.gutenberg.org/files/54/54-h/54-h.htm\n",
        "* Ozma of Oz\n",
        "    * https://www.gutenberg.org/files/33361/33361-h/33361-h.htm\n",
        "* Dorothy and the Wizard in Oz\n",
        "    * https://www.gutenberg.org/files/22566/22566-h/22566-h.htm\n",
        "* The Road to Oz\n",
        "    * https://www.gutenberg.org/files/26624/26624-h/26624-h.htm #"
      ]
    },
    {
      "cell_type": "markdown",
      "id": "c1729ea5-325a-4474-bda3-c44d6aa8e05d",
      "metadata": {
        "id": "c1729ea5-325a-4474-bda3-c44d6aa8e05d"
      },
      "source": [
        "The books are all in the public domain, and the HTML can be found at https://www.gutenberg.org/.\n",
        "We will go through one example of how to get the text from the book using Python. Please note, this will not be the most optimal way to do this, but we hope we can make the process clear for you to try with other books or manuscripts.\n",
        "\n",
        "### Get the HTML for the Book\n",
        "\n",
        "We are going to use two libraries for this; one is a standard for Python called.\n",
        "\n",
        "```python\n",
        "import urllib\n",
        "```\n",
        "the other is a favorite of ours, called beautiful soup {cite:p}`BeautifulSoup`.\n",
        "\n",
        "```python\n",
        "from bs4 import BeautifulSoup\n",
        "```\n",
        "\n",
        "urllib will get the document, and BeautifulSoup makes it easy to parse."
      ]
    },
    {
      "cell_type": "code",
      "execution_count": null,
      "id": "fc077908-6bad-4e1c-80e1-161ba6a4458f",
      "metadata": {
        "id": "fc077908-6bad-4e1c-80e1-161ba6a4458f"
      },
      "outputs": [],
      "source": [
        "from urllib.request import urlopen\n",
        "from bs4 import BeautifulSoup\n",
        "\n",
        "url = \"https://www.gutenberg.org/files/55/55-h/55-h.htm\"\n",
        "html = urlopen(url).read()\n",
        "soup = BeautifulSoup(html, features=\"html.parser\")"
      ]
    },
    {
      "cell_type": "markdown",
      "id": "827e1e3a-a17c-475c-967b-9d99a63e4460",
      "metadata": {
        "id": "827e1e3a-a17c-475c-967b-9d99a63e4460"
      },
      "source": [
        "Here we remove any CSS (style) or JavaScript (script)"
      ]
    },
    {
      "cell_type": "code",
      "execution_count": null,
      "id": "043de121-b7f6-4ec5-bed6-88f81c577e80",
      "metadata": {
        "id": "043de121-b7f6-4ec5-bed6-88f81c577e80"
      },
      "outputs": [],
      "source": [
        "for script in soup([\"script\", \"style\"]):\n",
        "    script.extract()"
      ]
    },
    {
      "cell_type": "markdown",
      "id": "90bf0a30-811c-4e30-b81b-5d798e66037f",
      "metadata": {
        "id": "90bf0a30-811c-4e30-b81b-5d798e66037f"
      },
      "source": [
        "Finally, get the text and add it to our document list."
      ]
    },
    {
      "cell_type": "code",
      "execution_count": null,
      "id": "f2baa4a1-c854-48d0-ba13-8a02232ab77c",
      "metadata": {
        "id": "f2baa4a1-c854-48d0-ba13-8a02232ab77c"
      },
      "outputs": [],
      "source": [
        "text = soup.get_text()\n",
        "documents = []\n",
        "documents.append(text)"
      ]
    },
    {
      "cell_type": "markdown",
      "id": "9c513502-b0ee-4a8a-ae59-0195456bf56a",
      "metadata": {
        "id": "9c513502-b0ee-4a8a-ae59-0195456bf56a"
      },
      "source": [
        "We will repeat this process for the other four books."
      ]
    },
    {
      "cell_type": "code",
      "execution_count": null,
      "id": "e823b967-0720-4fd4-926f-84d013508da5",
      "metadata": {
        "id": "e823b967-0720-4fd4-926f-84d013508da5"
      },
      "outputs": [],
      "source": [
        "url = \"https://www.gutenberg.org/files/54/54-h/54-h.htm\"\n",
        "html = urlopen(url).read()\n",
        "soup = BeautifulSoup(html, features=\"html.parser\")\n",
        "for script in soup([\"script\", \"style\"]):\n",
        "    script.extract()\n",
        "text = soup.get_text()\n",
        "documents.append(text)\n",
        "\n",
        "url = \"https://www.gutenberg.org/files/33361/33361-h/33361-h.htm\"\n",
        "html = urlopen(url).read()\n",
        "soup = BeautifulSoup(html, features=\"html.parser\")\n",
        "for script in soup([\"script\", \"style\"]):\n",
        "    script.extract()\n",
        "text = soup.get_text()\n",
        "documents.append(text)\n",
        "\n",
        "url = \"https://www.gutenberg.org/files/22566/22566-h/22566-h.htm\"\n",
        "html = urlopen(url).read()\n",
        "soup = BeautifulSoup(html, features=\"html.parser\")\n",
        "for script in soup([\"script\", \"style\"]):\n",
        "    script.extract()\n",
        "text = soup.get_text()\n",
        "documents.append(text)\n",
        "\n",
        "url = \"https://www.gutenberg.org/files/26624/26624-h/26624-h.htm\"\n",
        "html = urlopen(url).read()\n",
        "soup = BeautifulSoup(html, features=\"html.parser\")\n",
        "for script in soup([\"script\", \"style\"]):\n",
        "    script.extract()\n",
        "text = soup.get_text()\n",
        "documents.append(text)"
      ]
    },
    {
      "cell_type": "markdown",
      "id": "79da5c65-d8e6-4687-b9dd-8432035b9234",
      "metadata": {
        "id": "79da5c65-d8e6-4687-b9dd-8432035b9234"
      },
      "source": [
        "### Create Tokens and Vocabulary\n",
        "\n",
        "Now that we have our books, we need to tokenize the stories by word and then create a vocabulary out of these tokens. sklearn is a fantastic library that we will be using throughout the notebook {cite:p}`sklearn_api`."
      ]
    },
    {
      "cell_type": "code",
      "execution_count": null,
      "id": "798109d6-534a-42cf-b0c1-724b34097cbc",
      "metadata": {
        "id": "798109d6-534a-42cf-b0c1-724b34097cbc"
      },
      "outputs": [],
      "source": [
        "%%capture\n",
        "!pip install sklearn"
      ]
    },
    {
      "cell_type": "code",
      "execution_count": null,
      "id": "a7db0482-3d3e-4530-ac72-2a4fdb658c89",
      "metadata": {
        "id": "a7db0482-3d3e-4530-ac72-2a4fdb658c89"
      },
      "outputs": [],
      "source": [
        "from sklearn.feature_extraction.text import CountVectorizer\n",
        "\n",
        "cv = CountVectorizer()\n",
        "df = cv.fit_transform(documents)\n",
        "vocab = cv.get_feature_names()"
      ]
    },
    {
      "cell_type": "markdown",
      "id": "b83a8cb3-8446-4e1b-b4e8-08f35e4ddbd6",
      "metadata": {
        "id": "b83a8cb3-8446-4e1b-b4e8-08f35e4ddbd6"
      },
      "source": [
        "Let's take a look at the tokens and the number of occurrence for the tokens."
      ]
    },
    {
      "cell_type": "code",
      "execution_count": null,
      "id": "010f147b-256f-4d79-aafb-28cb0ed3aa65",
      "metadata": {
        "id": "010f147b-256f-4d79-aafb-28cb0ed3aa65",
        "outputId": "2a7af481-e7d8-45b8-e92b-e0947a8c286f"
      },
      "outputs": [
        {
          "name": "stdout",
          "output_type": "stream",
          "text": [
            "  (0, 8074)\t3198\n",
            "  (0, 6159)\t89\n",
            "  (0, 3803)\t99\n",
            "  (0, 2718)\t14\n",
            "  (0, 5464)\t976\n",
            "  (0, 9007)\t28\n",
            "  (0, 8988)\t44\n",
            "  (0, 5599)\t169\n",
            "  (0, 1347)\t119\n",
            "  (0, 3404)\t5\n",
            "  (0, 896)\t5\n",
            "  (0, 8107)\t196\n",
            "  (0, 4381)\t284\n",
            "  (0, 3334)\t354\n",
            "  (0, 8586)\t28\n",
            "  (0, 596)\t18\n",
            "  (0, 599)\t4\n",
            "  (0, 4220)\t544\n",
            "  (0, 8514)\t15\n",
            "  (0, 7641)\t19\n",
            "  (0, 553)\t1738\n",
            "  (0, 5174)\t24\n",
            "  (0, 5551)\t65\n",
            "  (0, 5670)\t2\n",
            "  (0, 9040)\t19\n",
            "  :\t:\n",
            "  (0, 5615)\t1\n",
            "  (0, 2552)\t1\n",
            "  (0, 5054)\t1\n",
            "  (0, 406)\t1\n",
            "  (0, 8792)\t1\n",
            "  (0, 2067)\t1\n",
            "  (0, 1411)\t1\n",
            "  (0, 6150)\t1\n",
            "  (0, 5057)\t1\n",
            "  (0, 3884)\t1\n",
            "  (0, 5540)\t1\n",
            "  (0, 7093)\t1\n",
            "  (0, 6146)\t1\n",
            "  (0, 4814)\t1\n",
            "  (0, 5326)\t1\n",
            "  (0, 8698)\t1\n",
            "  (0, 1844)\t1\n",
            "  (0, 5293)\t1\n",
            "  (0, 2728)\t1\n",
            "  (0, 4889)\t1\n",
            "  (0, 5817)\t1\n",
            "  (0, 3045)\t1\n",
            "  (0, 6145)\t1\n",
            "  (0, 7822)\t1\n",
            "  (0, 5337)\t1\n"
          ]
        }
      ],
      "source": [
        "print (df[0])"
      ]
    },
    {
      "cell_type": "markdown",
      "id": "f93c6b19-5e3d-4a83-9c5d-4d6518aaf4af",
      "metadata": {
        "id": "f93c6b19-5e3d-4a83-9c5d-4d6518aaf4af"
      },
      "source": [
        "The second number listed is the token number, and we use the vocab list to see what the actual word. An example would be to look at the first line.\n",
        "\n",
        "```python\n",
        "(0, 8074) 3198\n",
        "```\n",
        "The 8074 token was used 3198 times. The 8074 token is:"
      ]
    },
    {
      "cell_type": "code",
      "execution_count": null,
      "id": "820ce127-340f-4ebc-8437-8571a1ee23a8",
      "metadata": {
        "id": "820ce127-340f-4ebc-8437-8571a1ee23a8",
        "outputId": "e1e2b957-8ecb-4adc-e0eb-9fe9510ab3ca"
      },
      "outputs": [
        {
          "name": "stdout",
          "output_type": "stream",
          "text": [
            "the\n"
          ]
        }
      ],
      "source": [
        "print (vocab[8074])"
      ]
    },
    {
      "cell_type": "markdown",
      "id": "981cc43e-a82c-420d-b9b9-88ac24ec8ba7",
      "metadata": {
        "id": "981cc43e-a82c-420d-b9b9-88ac24ec8ba7"
      },
      "source": [
        "Not that surprising, the word \"the\" is used that many times."
      ]
    },
    {
      "cell_type": "markdown",
      "id": "cfb90a61-dd71-4bcb-afd6-4d27bf47098e",
      "metadata": {
        "id": "cfb90a61-dd71-4bcb-afd6-4d27bf47098e"
      },
      "source": [
        ":::{note}\n",
        "\n",
        "Because there are many commonly used terms. We would want to remove these words from our dataset. These words are called *stopwords* and should be removed. We do showcase this later.  \n",
        "\n",
        ":::"
      ]
    },
    {
      "cell_type": "markdown",
      "id": "fa51075a-6cc9-4bcb-b136-951e622a44d8",
      "metadata": {
        "id": "fa51075a-6cc9-4bcb-b136-951e622a44d8"
      },
      "source": [
        "From here, we are actually at the point where we can run LDA.\n",
        "\n",
        "There are much more than two inputs available for LDA, but we will focus on two.\n",
        "> Here are the other inputs: https://scikit-learn.org/stable/modules/generated/sklearn.decomposition.LatentDirichletAllocation.html\n",
        "\n",
        "The two we will focus on are:\n",
        "\n",
        "* n_components - the number of topics, again, we need to specify this\n",
        "* doc_topic_prior - this relates the Dirichlet distribution (the next notebook goes into full detail about Dirichlet and how it relates to LDA.\n"
      ]
    },
    {
      "cell_type": "code",
      "execution_count": null,
      "id": "f00d8bf9-c910-49a7-b01b-f1fa3193f41a",
      "metadata": {
        "id": "f00d8bf9-c910-49a7-b01b-f1fa3193f41a",
        "outputId": "07d9d137-8eba-411f-9978-b168b993d120"
      },
      "outputs": [
        {
          "data": {
            "text/plain": [
              "LatentDirichletAllocation(doc_topic_prior=1, n_components=4)"
            ]
          },
          "execution_count": 208,
          "metadata": {},
          "output_type": "execute_result"
        }
      ],
      "source": [
        "from sklearn.decomposition import LatentDirichletAllocation\n",
        "lda = LatentDirichletAllocation(n_components = 4, doc_topic_prior=1)\n",
        "lda.fit(df)"
      ]
    },
    {
      "cell_type": "markdown",
      "id": "7bab10a9-a092-4d2d-a5b1-0e4c9a5ebd24",
      "metadata": {
        "id": "7bab10a9-a092-4d2d-a5b1-0e4c9a5ebd24"
      },
      "source": [
        "To print out the top-5 words per topic, we used a solution from StackOverflow {cite:p}`python_LDA`"
      ]
    },
    {
      "cell_type": "code",
      "execution_count": null,
      "id": "070e0159-357b-40d3-be47-da86e8c90bb5",
      "metadata": {
        "id": "070e0159-357b-40d3-be47-da86e8c90bb5",
        "outputId": "410dae48-a6bb-4e94-b8d1-2fa082edbcd2"
      },
      "outputs": [
        {
          "name": "stdout",
          "output_type": "stream",
          "text": [
            "Topic: 0\n",
            "  dorothy, man, shaggy, said, bright, button, little, asked, ozma, know\n",
            "Topic: 1\n",
            "  said, dorothy, scarecrow, woodman, tin, little, oz, tip, asked, gutenberg\n",
            "Topic: 2\n",
            "  said, wizard, dorothy, pg, jim, little, zeb, horse, eureka, asked\n",
            "Topic: 3\n",
            "  handkerchiefs, silvery, hillside, wistfully, sticks, assemblage, ruffled, reunited, mar, unlucky\n"
          ]
        }
      ],
      "source": [
        "import numpy as np\n",
        "topic_words = {}\n",
        "n_top_words = 10\n",
        "for topic, comp in enumerate(lda.components_):\n",
        "    # for the n-dimensional array \"arr\":\n",
        "    # argsort() returns a ranked n-dimensional array of arr, call it \"ranked_array\"\n",
        "    # which contains the indices that would sort arr in a descending fashion\n",
        "    # for the ith element in ranked_array, ranked_array[i] represents the index of the\n",
        "    # element in arr that should be at the ith index in ranked_array\n",
        "    # ex. arr = [3,7,1,0,3,6]\n",
        "    # np.argsort(arr) -> [3, 2, 0, 4, 5, 1]\n",
        "    # word_idx contains the indices in \"topic\" of the top num_top_words most relevant\n",
        "    # to a given topic ... it is sorted ascending to begin with and then reversed (desc. now)\n",
        "    word_idx = np.argsort(comp)[::-1][:n_top_words]\n",
        "\n",
        "    # store the words most relevant to the topic\n",
        "    topic_words[topic] = [vocab[i] for i in word_idx]\n",
        "\n",
        "for topic, words in topic_words.items():\n",
        "    print('Topic: %d' % topic)\n",
        "    print('  %s' % ', '.join(words))"
      ]
    },
    {
      "cell_type": "markdown",
      "id": "11fc0063-0c69-4d16-9a72-feaef7e6a550",
      "metadata": {
        "id": "11fc0063-0c69-4d16-9a72-feaef7e6a550"
      },
      "source": [
        "Looking at this, we do not get a clear picture of the topics. This time, let's remove those stopwords and see how important 🧼cleaning the data can be🧼!"
      ]
    },
    {
      "cell_type": "code",
      "execution_count": null,
      "id": "49b1b809-062b-4cb4-b77b-846c2ef00ade",
      "metadata": {
        "id": "49b1b809-062b-4cb4-b77b-846c2ef00ade"
      },
      "outputs": [],
      "source": [
        "from sklearn.feature_extraction.text import CountVectorizer\n",
        "\n",
        "# we can add this to the tokenization step\n",
        "cv = CountVectorizer(stop_words='english')\n",
        "df = cv.fit_transform(documents)\n",
        "vocab = cv.get_feature_names()"
      ]
    },
    {
      "cell_type": "code",
      "execution_count": null,
      "id": "70f04ea2-d8d8-4ca1-98bb-c500367599e6",
      "metadata": {
        "id": "70f04ea2-d8d8-4ca1-98bb-c500367599e6",
        "outputId": "52a87232-b0cf-4af7-bab4-59ef9e6f3b56"
      },
      "outputs": [
        {
          "data": {
            "text/plain": [
              "LatentDirichletAllocation(doc_topic_prior=1, n_components=4)"
            ]
          },
          "execution_count": 211,
          "metadata": {},
          "output_type": "execute_result"
        }
      ],
      "source": [
        "from sklearn.decomposition import LatentDirichletAllocation\n",
        "lda = LatentDirichletAllocation(n_components = 4, doc_topic_prior=1)\n",
        "lda.fit(df)"
      ]
    },
    {
      "cell_type": "code",
      "execution_count": null,
      "id": "84f7c95d-cb88-48fb-86f5-ba7ef49933da",
      "metadata": {
        "id": "84f7c95d-cb88-48fb-86f5-ba7ef49933da",
        "outputId": "1d11bfb7-1325-44b8-c3f0-dfe63989f967"
      },
      "outputs": [
        {
          "name": "stdout",
          "output_type": "stream",
          "text": [
            "Topic: 0\n",
            "  dorothy, man, shaggy, said, bright, button, little, asked, ozma, know\n",
            "Topic: 1\n",
            "  said, dorothy, scarecrow, woodman, tin, little, oz, tip, asked, gutenberg\n",
            "Topic: 2\n",
            "  said, wizard, dorothy, pg, jim, little, zeb, horse, eureka, asked\n",
            "Topic: 3\n",
            "  handkerchiefs, silvery, hillside, wistfully, sticks, assemblage, ruffled, reunited, mar, unlucky\n"
          ]
        }
      ],
      "source": [
        "topic_words = {}\n",
        "n_top_words = 10\n",
        "for topic, comp in enumerate(lda.components_):\n",
        "    # for the n-dimensional array \"arr\":\n",
        "    # argsort() returns a ranked n-dimensional array of arr, call it \"ranked_array\"\n",
        "    # which contains the indices that would sort arr in a descending fashion\n",
        "    # for the ith element in ranked_array, ranked_array[i] represents the index of the\n",
        "    # element in arr that should be at the ith index in ranked_array\n",
        "    # ex. arr = [3,7,1,0,3,6]\n",
        "    # np.argsort(arr) -> [3, 2, 0, 4, 5, 1]\n",
        "    # word_idx contains the indices in \"topic\" of the top num_top_words most relevant\n",
        "    # to a given topic ... it is sorted ascending to begin with and then reversed (desc. now)\n",
        "    word_idx = np.argsort(comp)[::-1][:n_top_words]\n",
        "\n",
        "    # store the words most relevant to the topic\n",
        "    topic_words[topic] = [vocab[i] for i in word_idx]\n",
        "\n",
        "for topic, words in topic_words.items():\n",
        "    print('Topic: %d' % topic)\n",
        "    print('  %s' % ', '.join(words))"
      ]
    },
    {
      "cell_type": "markdown",
      "id": "70b6b799-313b-4e74-81a3-4786aa70e702",
      "metadata": {
        "id": "70b6b799-313b-4e74-81a3-4786aa70e702"
      },
      "source": [
        "Much better!"
      ]
    },
    {
      "cell_type": "markdown",
      "id": "d9798b0c-5bc2-45e1-bee2-4fd256306e59",
      "metadata": {
        "id": "d9798b0c-5bc2-45e1-bee2-4fd256306e59"
      },
      "source": [
        "## Moving On\n",
        "\n",
        "In the next section, we spend a reasonable amount of time talking about the Dirichlet distribution and how it relates to LDA."
      ]
    },
    {
      "cell_type": "code",
      "execution_count": null,
      "id": "38e454d8-972c-4ea1-9a83-1830384909a0",
      "metadata": {
        "id": "38e454d8-972c-4ea1-9a83-1830384909a0"
      },
      "outputs": [],
      "source": []
    }
  ],
  "metadata": {
    "kernelspec": {
      "display_name": "Python 3",
      "language": "python",
      "name": "python3"
    },
    "language_info": {
      "codemirror_mode": {
        "name": "ipython",
        "version": 3
      },
      "file_extension": ".py",
      "mimetype": "text/x-python",
      "name": "python",
      "nbconvert_exporter": "python",
      "pygments_lexer": "ipython3",
      "version": "3.8.5"
    },
    "colab": {
      "provenance": []
    }
  },
  "nbformat": 4,
  "nbformat_minor": 5
}