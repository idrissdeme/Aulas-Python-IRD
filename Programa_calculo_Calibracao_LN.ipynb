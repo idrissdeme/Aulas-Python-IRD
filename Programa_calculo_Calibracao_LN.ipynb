{
  "cells": [
    {
      "cell_type": "markdown",
      "metadata": {
        "id": "view-in-github",
        "colab_type": "text"
      },
      "source": [
        "<a href=\"https://colab.research.google.com/github/idrissdeme/Aulas-Python-IRD/blob/main/Programa_calculo_Calibracao_LN.ipynb\" target=\"_parent\"><img src=\"https://colab.research.google.com/assets/colab-badge.svg\" alt=\"Open In Colab\"/></a>"
      ]
    },
    {
      "cell_type": "code",
      "execution_count": null,
      "metadata": {
        "id": "XCRCL56ZAQG3"
      },
      "outputs": [],
      "source": [
        "import pandas as pd\n",
        "from math import *\n",
        "import xlrd"
      ]
    },
    {
      "cell_type": "code",
      "source": [
        "from google.colab import drive\n",
        "drive.mount('/content/drive')"
      ],
      "metadata": {
        "id": "IMARubec6sH8"
      },
      "execution_count": null,
      "outputs": []
    },
    {
      "cell_type": "code",
      "execution_count": null,
      "metadata": {
        "id": "YhjtwrW4YIMe"
      },
      "outputs": [],
      "source": [
        "table = pd.read_excel('/content/Planilha de calculo de valicao (2).xlsx',sheet_name='Dados_python')\n",
        "display(table)\n",
        "q0=8; Lambida_h=11; Lambida_s=12; h_10=14; hp=15; Sec_choque=17; A=18; E=19;"
      ]
    },
    {
      "cell_type": "code",
      "execution_count": null,
      "metadata": {
        "id": "XtwbzNHRMZCG"
      },
      "outputs": [],
      "source": [
        "fonte=0\n",
        "for fonte in [0,1,2,3,4,5,6,7,8,9,10,11,12,13]:\n",
        "  print(fonte, '.','modelo da fonte =',table.iloc[fonte,1], table.iloc[fonte,0])\n",
        "fonte = int(input(\"Índice da Fonte: \"))\n",
        "print(fonte)"
      ]
    },
    {
      "cell_type": "code",
      "execution_count": null,
      "metadata": {
        "id": "hh6zwkJIcOg0",
        "colab": {
          "base_uri": "https://localhost:8080/"
        },
        "outputId": "7e2ae2b6-8bb7-4390-96a4-416c1d01f870"
      },
      "outputs": [
        {
          "output_type": "stream",
          "name": "stdout",
          "text": [
            "0. Ambiente\n",
            "1. Individual\n",
            "2. Fluência\n",
            "Grandeza: 0\n",
            "0\n"
          ]
        }
      ],
      "source": [
        "grandeza=0\n",
        "for grandeza in [\"0. Ambiente\",\"1. Individual\",\"2. Fluência\"]:\n",
        "  print(grandeza)\n",
        "grandeza = int(input(\"Grandeza: \"))  \n",
        "print(grandeza)"
      ]
    },
    {
      "cell_type": "code",
      "execution_count": null,
      "metadata": {
        "id": "Etd7ZSi3ldrJ"
      },
      "outputs": [],
      "source": [
        "#CÁLCULO DE FLUÊNCIA\n",
        "d2 = int(input(\"Distância (em centimetros): \"))\n",
        "t1 = int(input(\"Tempo(em segundos):  \"))\n",
        "phi =(table.iloc[fonte,q0]*table.iloc[fonte,A]*table.iloc[fonte,E]*e**(-table.iloc[fonte,Sec_choque]*d2)/(4*pi*d2**2))*(1-e**(-table.iloc[fonte,Lambida_s]*t1))/table.iloc[fonte,Lambida_s]\n",
        "print('A fluência é:', phi, 'n/cm2')"
      ]
    },
    {
      "cell_type": "code",
      "execution_count": null,
      "metadata": {
        "id": "L842xzGIpbtY",
        "colab": {
          "base_uri": "https://localhost:8080/"
        },
        "outputId": "8e0d6b52-867a-4dc4-d090-4a97e264f563"
      },
      "outputs": [
        {
          "output_type": "stream",
          "name": "stdout",
          "text": [
            "Distância (em centimetros): 100\n",
            "A taxa de fluência é: 16.703797990506065 n/cm^2/s\n"
          ]
        }
      ],
      "source": [
        "#CÁLCULO Da TAXA DE FLUÊNCIA\n",
        "d2 = int(input(\"Distância (em centimetros): \"))\n",
        "phi =table.iloc[fonte,q0]*table.iloc[fonte,A]*table.iloc[fonte,E]*e**(-table.iloc[fonte,Sec_choque]*d2)/(4*pi*d2**2)\n",
        "print('A taxa de fluência é:', phi, 'n/cm^2/s')"
      ]
    },
    {
      "cell_type": "code",
      "execution_count": null,
      "metadata": {
        "id": "IZtEm-9RHzPa",
        "colab": {
          "base_uri": "https://localhost:8080/"
        },
        "outputId": "d7f6f2a1-e361-4cbf-cbb5-5df9336b9900"
      },
      "outputs": [
        {
          "output_type": "stream",
          "name": "stdout",
          "text": [
            "Distância (em centimetros): 100\n",
            "Tempo(em horas):  2\n",
            "O equivalente de dose ambiente é: 47.024523498271634 uSv\n"
          ]
        }
      ],
      "source": [
        "#CÁLCULO DO EQUIVALENTE DE DOSE\n",
        "d2 = int(input(\"Distância (em centimetros): \"))\n",
        "t1 = int(input(\"Tempo(em horas):  \"))\n",
        "if grandeza==0:\n",
        "  x=14 #ambiente\n",
        "  y='ambiente'\n",
        "else:\n",
        "  x=15 #individual\n",
        "  y='individual'\n",
        "H =(3600*(table.iloc[fonte,x]*table.iloc[fonte,q0]*0.000001*table.iloc[fonte,A]*table.iloc[fonte,E]*e**(-table.iloc[fonte,Sec_choque]*d2))/(4*pi*d2**2))*(1-e**(-table.iloc[fonte,Lambida_h]*t1))/table.iloc[fonte,Lambida_h]\n",
        "print('O equivalente de dose',y,'é:', H, 'uSv')"
      ]
    },
    {
      "cell_type": "code",
      "execution_count": null,
      "metadata": {
        "id": "mePPfHK6_5X-",
        "colab": {
          "base_uri": "https://localhost:8080/"
        },
        "outputId": "bbfea6fe-b53b-41b5-a6a5-31630af73c0b"
      },
      "outputs": [
        {
          "output_type": "stream",
          "name": "stdout",
          "text": [
            "Distância: 100\n",
            "A taxa de equivalente de dose é: 23.512266051436335 uSv/h\n"
          ]
        }
      ],
      "source": [
        "#CÁLCULO DA TAXA DE EQUIVALENTE DE DOSE\n",
        "d1 = int(input(\"Distância: \"))\n",
        "if grandeza==0:\n",
        "  x=14\n",
        "else:\n",
        "  x=15\n",
        "H =(3600*(table.iloc[fonte,x]*table.iloc[fonte,q0]*0.000001*table.iloc[fonte,A]*table.iloc[fonte,E]*e**(-table.iloc[fonte,Sec_choque]*d1))/(4*pi*d1**2))\n",
        "print('A taxa de equivalente de dose é:', H, 'uSv/h')"
      ]
    },
    {
      "cell_type": "code",
      "execution_count": null,
      "metadata": {
        "id": "UeqPNNyhMYiv"
      },
      "outputs": [],
      "source": [
        "#CÁLCULO DO TEMPO DE IRRADIAÇÃO\n",
        "d3 = int(input(\"Distância (em centimetros): \"))\n",
        "flu=0\n",
        "if grandeza==0:\n",
        "  x=14\n",
        "  Eq_amb = int(input(\"Equivalente de dose ambiente (em uSv):  \"))\n",
        "  t2=-log (1-((Eq_amb*4*pi*d3**2*table.iloc[fonte,Lambida_h])/(3600*table.iloc[fonte,x]*\n",
        "0.000001*table.iloc[fonte,q0]*table.iloc[fonte,A]*table.iloc[fonte,E]*\n",
        "e**((-table.iloc[fonte,Sec_choque]*d3)))))/table.iloc[fonte,Lambida_h]\n",
        "  print ('o tempo de irradiação do equivalente de dose ambiente é:', t2, 'horas')\n",
        "  \n",
        "if grandeza==1:\n",
        "  x=15\n",
        "  Eq_amb = int(input(\"Equivalente de dose individual (em uSv):  \"))\n",
        "  t2=-log (1-((Eq_amb*4*pi*d3**2*table.iloc[fonte,Lambida_h])/(3600*table.iloc[fonte,x]*0.000001*table.iloc[fonte,q0]*table.iloc[fonte,A]*table.iloc[fonte,E]*e**((-table.iloc[fonte,Sec_choque]*d3)))))/table.iloc[fonte,Lambida_h]\n",
        "  print ('o tempo de irradiação do equivalente de dose individual é:', t2, 'horas')\n",
        "\n",
        "if grandeza==2:\n",
        "  flu = int(input(\"Fluência (em n/cm^2):  \"))\n",
        "  t2=-log (1-((flu*4*pi*d3**2*table.iloc[fonte,Lambida_h])/(table.iloc[fonte,q0]*table.iloc[fonte,A]*table.iloc[fonte,E]*e**((-table.iloc[fonte,Sec_choque]*d3)))))/table.iloc[fonte,Lambida_h]\n",
        "  print ('o tempo de irradiação da fluência é:', t2, 's')"
      ]
    },
    {
      "cell_type": "code",
      "source": [
        "#Distância Metodo Newton Raphson\n",
        "\n",
        "\n",
        "\n",
        "\n",
        "\n",
        "\n"
      ],
      "metadata": {
        "id": "naq56FW0eW6K"
      },
      "execution_count": null,
      "outputs": []
    }
  ],
  "metadata": {
    "colab": {
      "provenance": [],
      "include_colab_link": true
    },
    "kernelspec": {
      "display_name": "Python 3",
      "name": "python3"
    }
  },
  "nbformat": 4,
  "nbformat_minor": 0
}