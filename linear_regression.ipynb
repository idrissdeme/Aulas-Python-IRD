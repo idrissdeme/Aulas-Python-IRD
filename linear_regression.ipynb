{
  "cells": [
    {
      "cell_type": "markdown",
      "metadata": {
        "id": "view-in-github",
        "colab_type": "text"
      },
      "source": [
        "<a href=\"https://colab.research.google.com/github/idrissdeme/Aulas-Python-IRD/blob/main/linear_regression.ipynb\" target=\"_parent\"><img src=\"https://colab.research.google.com/assets/colab-badge.svg\" alt=\"Open In Colab\"/></a>"
      ]
    },
    {
      "cell_type": "code",
      "execution_count": null,
      "metadata": {
        "id": "DnGj0Azaxmdb"
      },
      "outputs": [],
      "source": [
        "import matplotlib.pyplot as plt\n",
        "import numpy as np\n",
        "np.random.seed(42)\n",
        "\n",
        "def compute_error(prediction, target):\n",
        "    # Calcular o erro\n",
        "    pass\n",
        "\n",
        "def plot_line(weights, bias, X, Y, title=\"Linear Regression Fit\"):\n",
        "    if X.ndim == 1:  # Só traça o gráfico se X for unidimensional\n",
        "        plt.scatter(X, Y, label=\"Data\")\n",
        "        plt.plot(X, weights * X + bias, color='red', label=\"Prediction\")\n",
        "        plt.xlabel(\"Feature\")\n",
        "        plt.ylabel(\"Target\")\n",
        "        plt.title(title)\n",
        "        plt.legend()\n",
        "        plt.show()\n",
        "\n",
        "def my_linear_regression(X, Y, learning_rate=0.01, epochs=1000):\n",
        "    # Garantir que X e Y sejam np.arrays\n",
        "    X = np.array(X)\n",
        "    Y = np.array(Y)\n",
        "\n",
        "    # Dimensões\n",
        "    num_samples, num_features = X.shape\n",
        "\n",
        "    # Inicializar pesos e bias\n",
        "    weights = np.random.rand(num_features)\n",
        "    bias = np.random.rand(1)\n",
        "\n",
        "    # Treinamento\n",
        "    for epoch in range(epochs):\n",
        "        for it in range(num_samples):\n",
        "            sample = X[it]\n",
        "            target = Y[it]\n",
        "\n",
        "            # Fazer previsão\n",
        "\n",
        "            # Calcular erro\n",
        "\n",
        "            # Atualizar pesos e bias\n",
        "\n",
        "\n",
        "    return weights, bias\n"
      ]
    },
    {
      "cell_type": "code",
      "execution_count": null,
      "metadata": {
        "colab": {
          "base_uri": "https://localhost:8080/"
        },
        "id": "ekj7U-UCxmdc",
        "outputId": "aa6a2120-b85a-47de-eb47-aefdb1be909b"
      },
      "outputs": [
        {
          "output_type": "stream",
          "name": "stdout",
          "text": [
            "[0.417411] [0.22210781]\n"
          ]
        }
      ],
      "source": [
        "# Criando dados sintéticos com n amostras e 1 atributo utilizando a equação y = 5 + 3*x + ruído\n",
        "n = 100\n",
        "\n",
        "X = np.linspace(0, 10, n)\n",
        "Y = 5 + 3*X + np.random.normal(0, 2., n)\n",
        "\n",
        "# Reshape no dado\n",
        "X = X.reshape(-1, 1)\n",
        "Y = Y.reshape(-1, 1)\n",
        "\n",
        "# Treinando o modelo\n",
        "weights, bias = my_linear_regression(X, Y)\n",
        "\n",
        "num_features = X.shape[1]\n",
        "\n",
        "print(weights, bias)"
      ]
    },
    {
      "cell_type": "code",
      "execution_count": null,
      "metadata": {
        "colab": {
          "base_uri": "https://localhost:8080/"
        },
        "id": "vNnsDP8Uxmdd",
        "outputId": "2add1158-0f93-4f46-affe-359d18df4d18"
      },
      "outputs": [
        {
          "output_type": "stream",
          "name": "stdout",
          "text": [
            "[3.02758653] [4.65437429]\n"
          ]
        }
      ],
      "source": [
        "from sklearn.linear_model import LinearRegression\n",
        "\n",
        "# Implemente uma regressão linear com sklearn\n"
      ]
    },
    {
      "cell_type": "code",
      "execution_count": null,
      "metadata": {
        "colab": {
          "base_uri": "https://localhost:8080/",
          "height": 472
        },
        "id": "IO8wvTRtxmdd",
        "outputId": "8a05fcca-3b30-4b85-ce67-49603efd4c03"
      },
      "outputs": [
        {
          "output_type": "display_data",
          "data": {
            "text/plain": [
              "<Figure size 640x480 with 1 Axes>"
            ],
            "image/png": "[encoded data removed]"
          },
          "metadata": {}
        }
      ],
      "source": [
        "# Plot dos resultados\n",
        "plot_line(weights, bias, X.flatten() if num_features == 1 else X[:, 0], Y, title=\"My Linear Regression Fit\")\n",
        "\n",
        "# plot_line(rf.coef_[0], rf.intercept_, X.flatten() if num_features == 1 else X[:, 0], Y, title=\"Sklearn Linear Regression Fit\")"
      ]
    },
    {
      "cell_type": "code",
      "source": [],
      "metadata": {
        "id": "XJDt_EtRx1sO"
      },
      "execution_count": null,
      "outputs": []
    }
  ],
  "metadata": {
    "kernelspec": {
      "display_name": "Python 3",
      "language": "python",
      "name": "python3"
    },
    "language_info": {
      "codemirror_mode": {
        "name": "ipython",
        "version": 3
      },
      "file_extension": ".py",
      "mimetype": "text/x-python",
      "name": "python",
      "nbconvert_exporter": "python",
      "pygments_lexer": "ipython3",
      "version": "3.12.3"
    },
    "colab": {
      "provenance": [],
      "include_colab_link": true
    }
  },
  "nbformat": 4,
  "nbformat_minor": 0
}